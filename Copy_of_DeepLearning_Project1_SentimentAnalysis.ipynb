{
  "nbformat": 4,
  "nbformat_minor": 0,
  "metadata": {
    "colab": {
      "provenance": []
    },
    "kernelspec": {
      "name": "python3",
      "display_name": "Python 3"
    },
    "language_info": {
      "name": "python"
    }
  },
  "cells": [
    {
      "cell_type": "code",
      "metadata": {
        "colab": {
          "base_uri": "https://localhost:8080/"
        },
        "id": "ifYWNWb-ENm9",
        "outputId": "c76cfd2d-7143-442a-9c90-dc536e8bdf65"
      },
      "source": [
        "import pandas as pd\n",
        "import numpy as np\n",
        "import tensorflow as tf\n",
        "from tensorflow.keras.models import Sequential\n",
        "from tensorflow.keras.layers import Dense\n",
        "import matplotlib.pyplot as plt\n",
        "from sklearn.model_selection import train_test_split\n",
        "from sklearn.feature_extraction.text import TfidfVectorizer\n",
        "import scipy\n",
        "\n",
        "## data cleaning libraries\n",
        "\n",
        "import re\n",
        "import nltk\n",
        "nltk.download('stopwords')\n",
        "from nltk.corpus import stopwords"
      ],
      "execution_count": null,
      "outputs": [
        {
          "output_type": "stream",
          "text": [
            "[nltk_data] Downloading package stopwords to /root/nltk_data...\n",
            "[nltk_data]   Package stopwords is already up-to-date!\n"
          ],
          "name": "stdout"
        }
      ]
    },
    {
      "cell_type": "code",
      "metadata": {
        "id": "eCBszey_LNRy"
      },
      "source": [
        "df = pd.read_csv('/content/Tweets.csv')"
      ],
      "execution_count": null,
      "outputs": []
    },
    {
      "cell_type": "code",
      "metadata": {
        "colab": {
          "base_uri": "https://localhost:8080/",
          "height": 434
        },
        "id": "oDI3CzFnLveB",
        "outputId": "efa3fdd4-34dd-4990-9df7-7096f5189566"
      },
      "source": [
        "df.head()"
      ],
      "execution_count": null,
      "outputs": [
        {
          "output_type": "execute_result",
          "data": {
            "text/html": [
              "<div>\n",
              "<style scoped>\n",
              "    .dataframe tbody tr th:only-of-type {\n",
              "        vertical-align: middle;\n",
              "    }\n",
              "\n",
              "    .dataframe tbody tr th {\n",
              "        vertical-align: top;\n",
              "    }\n",
              "\n",
              "    .dataframe thead th {\n",
              "        text-align: right;\n",
              "    }\n",
              "</style>\n",
              "<table border=\"1\" class=\"dataframe\">\n",
              "  <thead>\n",
              "    <tr style=\"text-align: right;\">\n",
              "      <th></th>\n",
              "      <th>tweet_id</th>\n",
              "      <th>airline_sentiment</th>\n",
              "      <th>airline_sentiment_confidence</th>\n",
              "      <th>negativereason</th>\n",
              "      <th>negativereason_confidence</th>\n",
              "      <th>airline</th>\n",
              "      <th>airline_sentiment_gold</th>\n",
              "      <th>name</th>\n",
              "      <th>negativereason_gold</th>\n",
              "      <th>retweet_count</th>\n",
              "      <th>text</th>\n",
              "      <th>tweet_coord</th>\n",
              "      <th>tweet_created</th>\n",
              "      <th>tweet_location</th>\n",
              "      <th>user_timezone</th>\n",
              "    </tr>\n",
              "  </thead>\n",
              "  <tbody>\n",
              "    <tr>\n",
              "      <th>0</th>\n",
              "      <td>5.703060e+17</td>\n",
              "      <td>neutral</td>\n",
              "      <td>1.0000</td>\n",
              "      <td>NaN</td>\n",
              "      <td>NaN</td>\n",
              "      <td>Virgin America</td>\n",
              "      <td>NaN</td>\n",
              "      <td>cairdin</td>\n",
              "      <td>NaN</td>\n",
              "      <td>0</td>\n",
              "      <td>@VirginAmerica What @dhepburn said.</td>\n",
              "      <td>NaN</td>\n",
              "      <td>24/02/2015 11:35</td>\n",
              "      <td>NaN</td>\n",
              "      <td>Eastern Time (US &amp; Canada)</td>\n",
              "    </tr>\n",
              "    <tr>\n",
              "      <th>1</th>\n",
              "      <td>5.703010e+17</td>\n",
              "      <td>positive</td>\n",
              "      <td>0.3486</td>\n",
              "      <td>NaN</td>\n",
              "      <td>0.0000</td>\n",
              "      <td>Virgin America</td>\n",
              "      <td>NaN</td>\n",
              "      <td>jnardino</td>\n",
              "      <td>NaN</td>\n",
              "      <td>0</td>\n",
              "      <td>@VirginAmerica plus you've added commercials t...</td>\n",
              "      <td>NaN</td>\n",
              "      <td>24/02/2015 11:15</td>\n",
              "      <td>NaN</td>\n",
              "      <td>Pacific Time (US &amp; Canada)</td>\n",
              "    </tr>\n",
              "    <tr>\n",
              "      <th>2</th>\n",
              "      <td>5.703010e+17</td>\n",
              "      <td>neutral</td>\n",
              "      <td>0.6837</td>\n",
              "      <td>NaN</td>\n",
              "      <td>NaN</td>\n",
              "      <td>Virgin America</td>\n",
              "      <td>NaN</td>\n",
              "      <td>yvonnalynn</td>\n",
              "      <td>NaN</td>\n",
              "      <td>0</td>\n",
              "      <td>@VirginAmerica I didn't today... Must mean I n...</td>\n",
              "      <td>NaN</td>\n",
              "      <td>24/02/2015 11:15</td>\n",
              "      <td>Lets Play</td>\n",
              "      <td>Central Time (US &amp; Canada)</td>\n",
              "    </tr>\n",
              "    <tr>\n",
              "      <th>3</th>\n",
              "      <td>5.703010e+17</td>\n",
              "      <td>negative</td>\n",
              "      <td>1.0000</td>\n",
              "      <td>Bad Flight</td>\n",
              "      <td>0.7033</td>\n",
              "      <td>Virgin America</td>\n",
              "      <td>NaN</td>\n",
              "      <td>jnardino</td>\n",
              "      <td>NaN</td>\n",
              "      <td>0</td>\n",
              "      <td>@VirginAmerica it's really aggressive to blast...</td>\n",
              "      <td>NaN</td>\n",
              "      <td>24/02/2015 11:15</td>\n",
              "      <td>NaN</td>\n",
              "      <td>Pacific Time (US &amp; Canada)</td>\n",
              "    </tr>\n",
              "    <tr>\n",
              "      <th>4</th>\n",
              "      <td>5.703010e+17</td>\n",
              "      <td>negative</td>\n",
              "      <td>1.0000</td>\n",
              "      <td>Can't Tell</td>\n",
              "      <td>1.0000</td>\n",
              "      <td>Virgin America</td>\n",
              "      <td>NaN</td>\n",
              "      <td>jnardino</td>\n",
              "      <td>NaN</td>\n",
              "      <td>0</td>\n",
              "      <td>@VirginAmerica and it's a really big bad thing...</td>\n",
              "      <td>NaN</td>\n",
              "      <td>24/02/2015 11:14</td>\n",
              "      <td>NaN</td>\n",
              "      <td>Pacific Time (US &amp; Canada)</td>\n",
              "    </tr>\n",
              "  </tbody>\n",
              "</table>\n",
              "</div>"
            ],
            "text/plain": [
              "       tweet_id airline_sentiment  ...  tweet_location               user_timezone\n",
              "0  5.703060e+17           neutral  ...             NaN  Eastern Time (US & Canada)\n",
              "1  5.703010e+17          positive  ...             NaN  Pacific Time (US & Canada)\n",
              "2  5.703010e+17           neutral  ...       Lets Play  Central Time (US & Canada)\n",
              "3  5.703010e+17          negative  ...             NaN  Pacific Time (US & Canada)\n",
              "4  5.703010e+17          negative  ...             NaN  Pacific Time (US & Canada)\n",
              "\n",
              "[5 rows x 15 columns]"
            ]
          },
          "metadata": {
            "tags": []
          },
          "execution_count": 6
        }
      ]
    },
    {
      "cell_type": "code",
      "metadata": {
        "id": "cVyAGh-QL325"
      },
      "source": [
        "df.drop('tweet_id',inplace=True,axis=1)"
      ],
      "execution_count": null,
      "outputs": []
    },
    {
      "cell_type": "code",
      "metadata": {
        "colab": {
          "base_uri": "https://localhost:8080/",
          "height": 434
        },
        "id": "ttNn5caWL_7f",
        "outputId": "1e2bf578-1013-4ff7-a15b-398a8620a009"
      },
      "source": [
        "df.head()"
      ],
      "execution_count": null,
      "outputs": [
        {
          "output_type": "execute_result",
          "data": {
            "text/html": [
              "<div>\n",
              "<style scoped>\n",
              "    .dataframe tbody tr th:only-of-type {\n",
              "        vertical-align: middle;\n",
              "    }\n",
              "\n",
              "    .dataframe tbody tr th {\n",
              "        vertical-align: top;\n",
              "    }\n",
              "\n",
              "    .dataframe thead th {\n",
              "        text-align: right;\n",
              "    }\n",
              "</style>\n",
              "<table border=\"1\" class=\"dataframe\">\n",
              "  <thead>\n",
              "    <tr style=\"text-align: right;\">\n",
              "      <th></th>\n",
              "      <th>airline_sentiment</th>\n",
              "      <th>airline_sentiment_confidence</th>\n",
              "      <th>negativereason</th>\n",
              "      <th>negativereason_confidence</th>\n",
              "      <th>airline</th>\n",
              "      <th>airline_sentiment_gold</th>\n",
              "      <th>name</th>\n",
              "      <th>negativereason_gold</th>\n",
              "      <th>retweet_count</th>\n",
              "      <th>text</th>\n",
              "      <th>tweet_coord</th>\n",
              "      <th>tweet_created</th>\n",
              "      <th>tweet_location</th>\n",
              "      <th>user_timezone</th>\n",
              "    </tr>\n",
              "  </thead>\n",
              "  <tbody>\n",
              "    <tr>\n",
              "      <th>0</th>\n",
              "      <td>neutral</td>\n",
              "      <td>1.0000</td>\n",
              "      <td>NaN</td>\n",
              "      <td>NaN</td>\n",
              "      <td>Virgin America</td>\n",
              "      <td>NaN</td>\n",
              "      <td>cairdin</td>\n",
              "      <td>NaN</td>\n",
              "      <td>0</td>\n",
              "      <td>@VirginAmerica What @dhepburn said.</td>\n",
              "      <td>NaN</td>\n",
              "      <td>24/02/2015 11:35</td>\n",
              "      <td>NaN</td>\n",
              "      <td>Eastern Time (US &amp; Canada)</td>\n",
              "    </tr>\n",
              "    <tr>\n",
              "      <th>1</th>\n",
              "      <td>positive</td>\n",
              "      <td>0.3486</td>\n",
              "      <td>NaN</td>\n",
              "      <td>0.0000</td>\n",
              "      <td>Virgin America</td>\n",
              "      <td>NaN</td>\n",
              "      <td>jnardino</td>\n",
              "      <td>NaN</td>\n",
              "      <td>0</td>\n",
              "      <td>@VirginAmerica plus you've added commercials t...</td>\n",
              "      <td>NaN</td>\n",
              "      <td>24/02/2015 11:15</td>\n",
              "      <td>NaN</td>\n",
              "      <td>Pacific Time (US &amp; Canada)</td>\n",
              "    </tr>\n",
              "    <tr>\n",
              "      <th>2</th>\n",
              "      <td>neutral</td>\n",
              "      <td>0.6837</td>\n",
              "      <td>NaN</td>\n",
              "      <td>NaN</td>\n",
              "      <td>Virgin America</td>\n",
              "      <td>NaN</td>\n",
              "      <td>yvonnalynn</td>\n",
              "      <td>NaN</td>\n",
              "      <td>0</td>\n",
              "      <td>@VirginAmerica I didn't today... Must mean I n...</td>\n",
              "      <td>NaN</td>\n",
              "      <td>24/02/2015 11:15</td>\n",
              "      <td>Lets Play</td>\n",
              "      <td>Central Time (US &amp; Canada)</td>\n",
              "    </tr>\n",
              "    <tr>\n",
              "      <th>3</th>\n",
              "      <td>negative</td>\n",
              "      <td>1.0000</td>\n",
              "      <td>Bad Flight</td>\n",
              "      <td>0.7033</td>\n",
              "      <td>Virgin America</td>\n",
              "      <td>NaN</td>\n",
              "      <td>jnardino</td>\n",
              "      <td>NaN</td>\n",
              "      <td>0</td>\n",
              "      <td>@VirginAmerica it's really aggressive to blast...</td>\n",
              "      <td>NaN</td>\n",
              "      <td>24/02/2015 11:15</td>\n",
              "      <td>NaN</td>\n",
              "      <td>Pacific Time (US &amp; Canada)</td>\n",
              "    </tr>\n",
              "    <tr>\n",
              "      <th>4</th>\n",
              "      <td>negative</td>\n",
              "      <td>1.0000</td>\n",
              "      <td>Can't Tell</td>\n",
              "      <td>1.0000</td>\n",
              "      <td>Virgin America</td>\n",
              "      <td>NaN</td>\n",
              "      <td>jnardino</td>\n",
              "      <td>NaN</td>\n",
              "      <td>0</td>\n",
              "      <td>@VirginAmerica and it's a really big bad thing...</td>\n",
              "      <td>NaN</td>\n",
              "      <td>24/02/2015 11:14</td>\n",
              "      <td>NaN</td>\n",
              "      <td>Pacific Time (US &amp; Canada)</td>\n",
              "    </tr>\n",
              "  </tbody>\n",
              "</table>\n",
              "</div>"
            ],
            "text/plain": [
              "  airline_sentiment  ...               user_timezone\n",
              "0           neutral  ...  Eastern Time (US & Canada)\n",
              "1          positive  ...  Pacific Time (US & Canada)\n",
              "2           neutral  ...  Central Time (US & Canada)\n",
              "3          negative  ...  Pacific Time (US & Canada)\n",
              "4          negative  ...  Pacific Time (US & Canada)\n",
              "\n",
              "[5 rows x 14 columns]"
            ]
          },
          "metadata": {
            "tags": []
          },
          "execution_count": 8
        }
      ]
    },
    {
      "cell_type": "code",
      "metadata": {
        "colab": {
          "base_uri": "https://localhost:8080/"
        },
        "id": "MbjLL-ANMFXo",
        "outputId": "bd0ca0fa-437e-47c9-f73f-bb0b4099c88e"
      },
      "source": [
        "df.isnull().sum()"
      ],
      "execution_count": null,
      "outputs": [
        {
          "output_type": "execute_result",
          "data": {
            "text/plain": [
              "airline_sentiment                   0\n",
              "airline_sentiment_confidence        0\n",
              "negativereason                   5462\n",
              "negativereason_confidence        4118\n",
              "airline                             0\n",
              "airline_sentiment_gold          14600\n",
              "name                                0\n",
              "negativereason_gold             14608\n",
              "retweet_count                       0\n",
              "text                                0\n",
              "tweet_coord                     13621\n",
              "tweet_created                       0\n",
              "tweet_location                   4733\n",
              "user_timezone                    4820\n",
              "dtype: int64"
            ]
          },
          "metadata": {
            "tags": []
          },
          "execution_count": 9
        }
      ]
    },
    {
      "cell_type": "code",
      "metadata": {
        "id": "8Pzhnxc3MLGV"
      },
      "source": [
        "df.drop(['negativereason_confidence','airline_sentiment_gold','negativereason_gold','tweet_coord','tweet_location','user_timezone'],inplace=True,axis=1)"
      ],
      "execution_count": null,
      "outputs": []
    },
    {
      "cell_type": "code",
      "metadata": {
        "colab": {
          "base_uri": "https://localhost:8080/",
          "height": 279
        },
        "id": "VKT0kgALNUHW",
        "outputId": "a187a401-5de3-450a-d9c7-f33e31033ee0"
      },
      "source": [
        "df.head()"
      ],
      "execution_count": null,
      "outputs": [
        {
          "output_type": "execute_result",
          "data": {
            "text/html": [
              "<div>\n",
              "<style scoped>\n",
              "    .dataframe tbody tr th:only-of-type {\n",
              "        vertical-align: middle;\n",
              "    }\n",
              "\n",
              "    .dataframe tbody tr th {\n",
              "        vertical-align: top;\n",
              "    }\n",
              "\n",
              "    .dataframe thead th {\n",
              "        text-align: right;\n",
              "    }\n",
              "</style>\n",
              "<table border=\"1\" class=\"dataframe\">\n",
              "  <thead>\n",
              "    <tr style=\"text-align: right;\">\n",
              "      <th></th>\n",
              "      <th>airline_sentiment</th>\n",
              "      <th>airline_sentiment_confidence</th>\n",
              "      <th>negativereason</th>\n",
              "      <th>airline</th>\n",
              "      <th>name</th>\n",
              "      <th>retweet_count</th>\n",
              "      <th>text</th>\n",
              "      <th>tweet_created</th>\n",
              "    </tr>\n",
              "  </thead>\n",
              "  <tbody>\n",
              "    <tr>\n",
              "      <th>0</th>\n",
              "      <td>neutral</td>\n",
              "      <td>1.0000</td>\n",
              "      <td>NaN</td>\n",
              "      <td>Virgin America</td>\n",
              "      <td>cairdin</td>\n",
              "      <td>0</td>\n",
              "      <td>@VirginAmerica What @dhepburn said.</td>\n",
              "      <td>24/02/2015 11:35</td>\n",
              "    </tr>\n",
              "    <tr>\n",
              "      <th>1</th>\n",
              "      <td>positive</td>\n",
              "      <td>0.3486</td>\n",
              "      <td>NaN</td>\n",
              "      <td>Virgin America</td>\n",
              "      <td>jnardino</td>\n",
              "      <td>0</td>\n",
              "      <td>@VirginAmerica plus you've added commercials t...</td>\n",
              "      <td>24/02/2015 11:15</td>\n",
              "    </tr>\n",
              "    <tr>\n",
              "      <th>2</th>\n",
              "      <td>neutral</td>\n",
              "      <td>0.6837</td>\n",
              "      <td>NaN</td>\n",
              "      <td>Virgin America</td>\n",
              "      <td>yvonnalynn</td>\n",
              "      <td>0</td>\n",
              "      <td>@VirginAmerica I didn't today... Must mean I n...</td>\n",
              "      <td>24/02/2015 11:15</td>\n",
              "    </tr>\n",
              "    <tr>\n",
              "      <th>3</th>\n",
              "      <td>negative</td>\n",
              "      <td>1.0000</td>\n",
              "      <td>Bad Flight</td>\n",
              "      <td>Virgin America</td>\n",
              "      <td>jnardino</td>\n",
              "      <td>0</td>\n",
              "      <td>@VirginAmerica it's really aggressive to blast...</td>\n",
              "      <td>24/02/2015 11:15</td>\n",
              "    </tr>\n",
              "    <tr>\n",
              "      <th>4</th>\n",
              "      <td>negative</td>\n",
              "      <td>1.0000</td>\n",
              "      <td>Can't Tell</td>\n",
              "      <td>Virgin America</td>\n",
              "      <td>jnardino</td>\n",
              "      <td>0</td>\n",
              "      <td>@VirginAmerica and it's a really big bad thing...</td>\n",
              "      <td>24/02/2015 11:14</td>\n",
              "    </tr>\n",
              "  </tbody>\n",
              "</table>\n",
              "</div>"
            ],
            "text/plain": [
              "  airline_sentiment  ...     tweet_created\n",
              "0           neutral  ...  24/02/2015 11:35\n",
              "1          positive  ...  24/02/2015 11:15\n",
              "2           neutral  ...  24/02/2015 11:15\n",
              "3          negative  ...  24/02/2015 11:15\n",
              "4          negative  ...  24/02/2015 11:14\n",
              "\n",
              "[5 rows x 8 columns]"
            ]
          },
          "metadata": {
            "tags": []
          },
          "execution_count": 11
        }
      ]
    },
    {
      "cell_type": "code",
      "metadata": {
        "id": "kU8knG9ANXPM"
      },
      "source": [
        "## Data Analysis"
      ],
      "execution_count": null,
      "outputs": []
    },
    {
      "cell_type": "code",
      "metadata": {
        "colab": {
          "base_uri": "https://localhost:8080/",
          "height": 316
        },
        "id": "NF90kOfsNpxy",
        "outputId": "8c1554d8-42bb-47ff-a3a5-e74c4723eab3"
      },
      "source": [
        "df.airline_sentiment.value_counts().plot(kind='bar')"
      ],
      "execution_count": null,
      "outputs": [
        {
          "output_type": "execute_result",
          "data": {
            "text/plain": [
              "<matplotlib.axes._subplots.AxesSubplot at 0x7f71866eac50>"
            ]
          },
          "metadata": {
            "tags": []
          },
          "execution_count": 13
        },
        {
          "output_type": "display_data",
          "data": {
            "image/png": "[encoded data removed]",
            "text/plain": [
              "<Figure size 432x288 with 1 Axes>"
            ]
          },
          "metadata": {
            "tags": [],
            "needs_background": "light"
          }
        }
      ]
    },
    {
      "cell_type": "code",
      "metadata": {
        "colab": {
          "base_uri": "https://localhost:8080/",
          "height": 282
        },
        "id": "HlP-ZaPlNx-s",
        "outputId": "b323965e-3678-4218-90f2-efd0fec083c5"
      },
      "source": [
        "df.airline.value_counts().plot(kind='barh')"
      ],
      "execution_count": null,
      "outputs": [
        {
          "output_type": "execute_result",
          "data": {
            "text/plain": [
              "<matplotlib.axes._subplots.AxesSubplot at 0x7f71865df3d0>"
            ]
          },
          "metadata": {
            "tags": []
          },
          "execution_count": 14
        },
        {
          "output_type": "display_data",
          "data": {
            "image/png": "[encoded data removed]",
            "text/plain": [
              "<Figure size 432x288 with 1 Axes>"
            ]
          },
          "metadata": {
            "tags": [],
            "needs_background": "light"
          }
        }
      ]
    },
    {
      "cell_type": "code",
      "metadata": {
        "colab": {
          "base_uri": "https://localhost:8080/",
          "height": 413
        },
        "id": "q8RY7ep7OTpd",
        "outputId": "9565bb00-5669-4a43-a64a-27736a773ae4"
      },
      "source": [
        "df.negativereason.value_counts().plot(kind='bar')"
      ],
      "execution_count": null,
      "outputs": [
        {
          "output_type": "execute_result",
          "data": {
            "text/plain": [
              "<matplotlib.axes._subplots.AxesSubplot at 0x7f718611c5d0>"
            ]
          },
          "metadata": {
            "tags": []
          },
          "execution_count": 15
        },
        {
          "output_type": "display_data",
          "data": {
            "image/png": "[encoded data removed]",
            "text/plain": [
              "<Figure size 432x288 with 1 Axes>"
            ]
          },
          "metadata": {
            "tags": [],
            "needs_background": "light"
          }
        }
      ]
    },
    {
      "cell_type": "code",
      "metadata": {
        "id": "jVX5dixPOq2j"
      },
      "source": [
        "df_each_airline_sentiment = pd.crosstab(df.airline_sentiment,df.airline)"
      ],
      "execution_count": null,
      "outputs": []
    },
    {
      "cell_type": "code",
      "metadata": {
        "colab": {
          "base_uri": "https://localhost:8080/",
          "height": 331
        },
        "id": "uYFC-8qyPOOW",
        "outputId": "81a078bc-9392-4d02-9591-f31a1bafd728"
      },
      "source": [
        "df_each_airline_sentiment.plot(kind='bar')"
      ],
      "execution_count": null,
      "outputs": [
        {
          "output_type": "execute_result",
          "data": {
            "text/plain": [
              "<matplotlib.axes._subplots.AxesSubplot at 0x7f718601e590>"
            ]
          },
          "metadata": {
            "tags": []
          },
          "execution_count": 17
        },
        {
          "output_type": "display_data",
          "data": {
            "image/png": "[encoded data removed]",
            "text/plain": [
              "<Figure size 432x288 with 1 Axes>"
            ]
          },
          "metadata": {
            "tags": [],
            "needs_background": "light"
          }
        }
      ]
    },
    {
      "cell_type": "code",
      "metadata": {
        "id": "ZkU7Py5rPQOz"
      },
      "source": [
        "df_each_airline_negative = pd.crosstab(df.airline,df.negativereason)"
      ],
      "execution_count": null,
      "outputs": []
    },
    {
      "cell_type": "code",
      "metadata": {
        "colab": {
          "base_uri": "https://localhost:8080/",
          "height": 195
        },
        "id": "BPMbSZ47P5Xv",
        "outputId": "c4089955-2406-41e8-a748-88c0135df9c0"
      },
      "source": [
        "df_each_airline_negative.style.highlight_max(color='red',axis=1)"
      ],
      "execution_count": null,
      "outputs": [
        {
          "output_type": "execute_result",
          "data": {
            "text/html": [
              "<style  type=\"text/css\" >\n",
              "#T_5bd3079a_b99c_11eb_b999_0242ac1c0002row0_col3,#T_5bd3079a_b99c_11eb_b999_0242ac1c0002row1_col7,#T_5bd3079a_b99c_11eb_b999_0242ac1c0002row2_col3,#T_5bd3079a_b99c_11eb_b999_0242ac1c0002row3_col3,#T_5bd3079a_b99c_11eb_b999_0242ac1c0002row4_col3,#T_5bd3079a_b99c_11eb_b999_0242ac1c0002row5_col3{\n",
              "            background-color:  red;\n",
              "        }</style><table id=\"T_5bd3079a_b99c_11eb_b999_0242ac1c0002\" ><thead>    <tr>        <th class=\"index_name level0\" >negativereason</th>        <th class=\"col_heading level0 col0\" >Bad Flight</th>        <th class=\"col_heading level0 col1\" >Can't Tell</th>        <th class=\"col_heading level0 col2\" >Cancelled Flight</th>        <th class=\"col_heading level0 col3\" >Customer Service Issue</th>        <th class=\"col_heading level0 col4\" >Damaged Luggage</th>        <th class=\"col_heading level0 col5\" >Flight Attendant Complaints</th>        <th class=\"col_heading level0 col6\" >Flight Booking Problems</th>        <th class=\"col_heading level0 col7\" >Late Flight</th>        <th class=\"col_heading level0 col8\" >Lost Luggage</th>        <th class=\"col_heading level0 col9\" >longlines</th>    </tr>    <tr>        <th class=\"index_name level0\" >airline</th>        <th class=\"blank\" ></th>        <th class=\"blank\" ></th>        <th class=\"blank\" ></th>        <th class=\"blank\" ></th>        <th class=\"blank\" ></th>        <th class=\"blank\" ></th>        <th class=\"blank\" ></th>        <th class=\"blank\" ></th>        <th class=\"blank\" ></th>        <th class=\"blank\" ></th>    </tr></thead><tbody>\n",
              "                <tr>\n",
              "                        <th id=\"T_5bd3079a_b99c_11eb_b999_0242ac1c0002level0_row0\" class=\"row_heading level0 row0\" >American</th>\n",
              "                        <td id=\"T_5bd3079a_b99c_11eb_b999_0242ac1c0002row0_col0\" class=\"data row0 col0\" >87</td>\n",
              "                        <td id=\"T_5bd3079a_b99c_11eb_b999_0242ac1c0002row0_col1\" class=\"data row0 col1\" >198</td>\n",
              "                        <td id=\"T_5bd3079a_b99c_11eb_b999_0242ac1c0002row0_col2\" class=\"data row0 col2\" >246</td>\n",
              "                        <td id=\"T_5bd3079a_b99c_11eb_b999_0242ac1c0002row0_col3\" class=\"data row0 col3\" >768</td>\n",
              "                        <td id=\"T_5bd3079a_b99c_11eb_b999_0242ac1c0002row0_col4\" class=\"data row0 col4\" >12</td>\n",
              "                        <td id=\"T_5bd3079a_b99c_11eb_b999_0242ac1c0002row0_col5\" class=\"data row0 col5\" >87</td>\n",
              "                        <td id=\"T_5bd3079a_b99c_11eb_b999_0242ac1c0002row0_col6\" class=\"data row0 col6\" >130</td>\n",
              "                        <td id=\"T_5bd3079a_b99c_11eb_b999_0242ac1c0002row0_col7\" class=\"data row0 col7\" >249</td>\n",
              "                        <td id=\"T_5bd3079a_b99c_11eb_b999_0242ac1c0002row0_col8\" class=\"data row0 col8\" >149</td>\n",
              "                        <td id=\"T_5bd3079a_b99c_11eb_b999_0242ac1c0002row0_col9\" class=\"data row0 col9\" >34</td>\n",
              "            </tr>\n",
              "            <tr>\n",
              "                        <th id=\"T_5bd3079a_b99c_11eb_b999_0242ac1c0002level0_row1\" class=\"row_heading level0 row1\" >Delta</th>\n",
              "                        <td id=\"T_5bd3079a_b99c_11eb_b999_0242ac1c0002row1_col0\" class=\"data row1 col0\" >64</td>\n",
              "                        <td id=\"T_5bd3079a_b99c_11eb_b999_0242ac1c0002row1_col1\" class=\"data row1 col1\" >186</td>\n",
              "                        <td id=\"T_5bd3079a_b99c_11eb_b999_0242ac1c0002row1_col2\" class=\"data row1 col2\" >51</td>\n",
              "                        <td id=\"T_5bd3079a_b99c_11eb_b999_0242ac1c0002row1_col3\" class=\"data row1 col3\" >199</td>\n",
              "                        <td id=\"T_5bd3079a_b99c_11eb_b999_0242ac1c0002row1_col4\" class=\"data row1 col4\" >11</td>\n",
              "                        <td id=\"T_5bd3079a_b99c_11eb_b999_0242ac1c0002row1_col5\" class=\"data row1 col5\" >60</td>\n",
              "                        <td id=\"T_5bd3079a_b99c_11eb_b999_0242ac1c0002row1_col6\" class=\"data row1 col6\" >44</td>\n",
              "                        <td id=\"T_5bd3079a_b99c_11eb_b999_0242ac1c0002row1_col7\" class=\"data row1 col7\" >269</td>\n",
              "                        <td id=\"T_5bd3079a_b99c_11eb_b999_0242ac1c0002row1_col8\" class=\"data row1 col8\" >57</td>\n",
              "                        <td id=\"T_5bd3079a_b99c_11eb_b999_0242ac1c0002row1_col9\" class=\"data row1 col9\" >14</td>\n",
              "            </tr>\n",
              "            <tr>\n",
              "                        <th id=\"T_5bd3079a_b99c_11eb_b999_0242ac1c0002level0_row2\" class=\"row_heading level0 row2\" >Southwest</th>\n",
              "                        <td id=\"T_5bd3079a_b99c_11eb_b999_0242ac1c0002row2_col0\" class=\"data row2 col0\" >90</td>\n",
              "                        <td id=\"T_5bd3079a_b99c_11eb_b999_0242ac1c0002row2_col1\" class=\"data row2 col1\" >159</td>\n",
              "                        <td id=\"T_5bd3079a_b99c_11eb_b999_0242ac1c0002row2_col2\" class=\"data row2 col2\" >162</td>\n",
              "                        <td id=\"T_5bd3079a_b99c_11eb_b999_0242ac1c0002row2_col3\" class=\"data row2 col3\" >391</td>\n",
              "                        <td id=\"T_5bd3079a_b99c_11eb_b999_0242ac1c0002row2_col4\" class=\"data row2 col4\" >14</td>\n",
              "                        <td id=\"T_5bd3079a_b99c_11eb_b999_0242ac1c0002row2_col5\" class=\"data row2 col5\" >38</td>\n",
              "                        <td id=\"T_5bd3079a_b99c_11eb_b999_0242ac1c0002row2_col6\" class=\"data row2 col6\" >61</td>\n",
              "                        <td id=\"T_5bd3079a_b99c_11eb_b999_0242ac1c0002row2_col7\" class=\"data row2 col7\" >152</td>\n",
              "                        <td id=\"T_5bd3079a_b99c_11eb_b999_0242ac1c0002row2_col8\" class=\"data row2 col8\" >90</td>\n",
              "                        <td id=\"T_5bd3079a_b99c_11eb_b999_0242ac1c0002row2_col9\" class=\"data row2 col9\" >29</td>\n",
              "            </tr>\n",
              "            <tr>\n",
              "                        <th id=\"T_5bd3079a_b99c_11eb_b999_0242ac1c0002level0_row3\" class=\"row_heading level0 row3\" >US Airways</th>\n",
              "                        <td id=\"T_5bd3079a_b99c_11eb_b999_0242ac1c0002row3_col0\" class=\"data row3 col0\" >104</td>\n",
              "                        <td id=\"T_5bd3079a_b99c_11eb_b999_0242ac1c0002row3_col1\" class=\"data row3 col1\" >246</td>\n",
              "                        <td id=\"T_5bd3079a_b99c_11eb_b999_0242ac1c0002row3_col2\" class=\"data row3 col2\" >189</td>\n",
              "                        <td id=\"T_5bd3079a_b99c_11eb_b999_0242ac1c0002row3_col3\" class=\"data row3 col3\" >811</td>\n",
              "                        <td id=\"T_5bd3079a_b99c_11eb_b999_0242ac1c0002row3_col4\" class=\"data row3 col4\" >11</td>\n",
              "                        <td id=\"T_5bd3079a_b99c_11eb_b999_0242ac1c0002row3_col5\" class=\"data row3 col5\" >123</td>\n",
              "                        <td id=\"T_5bd3079a_b99c_11eb_b999_0242ac1c0002row3_col6\" class=\"data row3 col6\" >122</td>\n",
              "                        <td id=\"T_5bd3079a_b99c_11eb_b999_0242ac1c0002row3_col7\" class=\"data row3 col7\" >453</td>\n",
              "                        <td id=\"T_5bd3079a_b99c_11eb_b999_0242ac1c0002row3_col8\" class=\"data row3 col8\" >154</td>\n",
              "                        <td id=\"T_5bd3079a_b99c_11eb_b999_0242ac1c0002row3_col9\" class=\"data row3 col9\" >50</td>\n",
              "            </tr>\n",
              "            <tr>\n",
              "                        <th id=\"T_5bd3079a_b99c_11eb_b999_0242ac1c0002level0_row4\" class=\"row_heading level0 row4\" >United</th>\n",
              "                        <td id=\"T_5bd3079a_b99c_11eb_b999_0242ac1c0002row4_col0\" class=\"data row4 col0\" >216</td>\n",
              "                        <td id=\"T_5bd3079a_b99c_11eb_b999_0242ac1c0002row4_col1\" class=\"data row4 col1\" >379</td>\n",
              "                        <td id=\"T_5bd3079a_b99c_11eb_b999_0242ac1c0002row4_col2\" class=\"data row4 col2\" >181</td>\n",
              "                        <td id=\"T_5bd3079a_b99c_11eb_b999_0242ac1c0002row4_col3\" class=\"data row4 col3\" >681</td>\n",
              "                        <td id=\"T_5bd3079a_b99c_11eb_b999_0242ac1c0002row4_col4\" class=\"data row4 col4\" >22</td>\n",
              "                        <td id=\"T_5bd3079a_b99c_11eb_b999_0242ac1c0002row4_col5\" class=\"data row4 col5\" >168</td>\n",
              "                        <td id=\"T_5bd3079a_b99c_11eb_b999_0242ac1c0002row4_col6\" class=\"data row4 col6\" >144</td>\n",
              "                        <td id=\"T_5bd3079a_b99c_11eb_b999_0242ac1c0002row4_col7\" class=\"data row4 col7\" >525</td>\n",
              "                        <td id=\"T_5bd3079a_b99c_11eb_b999_0242ac1c0002row4_col8\" class=\"data row4 col8\" >269</td>\n",
              "                        <td id=\"T_5bd3079a_b99c_11eb_b999_0242ac1c0002row4_col9\" class=\"data row4 col9\" >48</td>\n",
              "            </tr>\n",
              "            <tr>\n",
              "                        <th id=\"T_5bd3079a_b99c_11eb_b999_0242ac1c0002level0_row5\" class=\"row_heading level0 row5\" >Virgin America</th>\n",
              "                        <td id=\"T_5bd3079a_b99c_11eb_b999_0242ac1c0002row5_col0\" class=\"data row5 col0\" >19</td>\n",
              "                        <td id=\"T_5bd3079a_b99c_11eb_b999_0242ac1c0002row5_col1\" class=\"data row5 col1\" >22</td>\n",
              "                        <td id=\"T_5bd3079a_b99c_11eb_b999_0242ac1c0002row5_col2\" class=\"data row5 col2\" >18</td>\n",
              "                        <td id=\"T_5bd3079a_b99c_11eb_b999_0242ac1c0002row5_col3\" class=\"data row5 col3\" >60</td>\n",
              "                        <td id=\"T_5bd3079a_b99c_11eb_b999_0242ac1c0002row5_col4\" class=\"data row5 col4\" >4</td>\n",
              "                        <td id=\"T_5bd3079a_b99c_11eb_b999_0242ac1c0002row5_col5\" class=\"data row5 col5\" >5</td>\n",
              "                        <td id=\"T_5bd3079a_b99c_11eb_b999_0242ac1c0002row5_col6\" class=\"data row5 col6\" >28</td>\n",
              "                        <td id=\"T_5bd3079a_b99c_11eb_b999_0242ac1c0002row5_col7\" class=\"data row5 col7\" >17</td>\n",
              "                        <td id=\"T_5bd3079a_b99c_11eb_b999_0242ac1c0002row5_col8\" class=\"data row5 col8\" >5</td>\n",
              "                        <td id=\"T_5bd3079a_b99c_11eb_b999_0242ac1c0002row5_col9\" class=\"data row5 col9\" >3</td>\n",
              "            </tr>\n",
              "    </tbody></table>"
            ],
            "text/plain": [
              "<pandas.io.formats.style.Styler at 0x7f7185cfb5d0>"
            ]
          },
          "metadata": {
            "tags": []
          },
          "execution_count": 19
        }
      ]
    },
    {
      "cell_type": "code",
      "metadata": {
        "colab": {
          "base_uri": "https://localhost:8080/",
          "height": 400
        },
        "id": "ZrfutbJVP_Pm",
        "outputId": "9c2594a2-d826-4ba5-d492-359fecd50a38"
      },
      "source": [
        "df_each_airline_negative.plot(kind='bar',figsize=(20,5))"
      ],
      "execution_count": null,
      "outputs": [
        {
          "output_type": "execute_result",
          "data": {
            "text/plain": [
              "<matplotlib.axes._subplots.AxesSubplot at 0x7f71859a1690>"
            ]
          },
          "metadata": {
            "tags": []
          },
          "execution_count": 20
        },
        {
          "output_type": "display_data",
          "data": {
            "image/png": "[encoded data removed]",
            "text/plain": [
              "<Figure size 1440x360 with 1 Axes>"
            ]
          },
          "metadata": {
            "tags": [],
            "needs_background": "light"
          }
        }
      ]
    },
    {
      "cell_type": "code",
      "metadata": {
        "id": "F6MVRgqLQ6LX"
      },
      "source": [
        "df['tweet_created'] = pd.to_datetime(df['tweet_created']).dt.date"
      ],
      "execution_count": null,
      "outputs": []
    },
    {
      "cell_type": "code",
      "metadata": {
        "colab": {
          "base_uri": "https://localhost:8080/"
        },
        "id": "aS2WHF7MSNYC",
        "outputId": "58117439-73ce-4092-a5b8-ae28a8d3addd"
      },
      "source": [
        "df['tweet_created'].min()"
      ],
      "execution_count": null,
      "outputs": [
        {
          "output_type": "execute_result",
          "data": {
            "text/plain": [
              "datetime.date(2015, 2, 16)"
            ]
          },
          "metadata": {
            "tags": []
          },
          "execution_count": 22
        }
      ]
    },
    {
      "cell_type": "code",
      "metadata": {
        "colab": {
          "base_uri": "https://localhost:8080/"
        },
        "id": "sFPrP1cMSfdw",
        "outputId": "d39f219e-ba8e-4546-bceb-55421008b542"
      },
      "source": [
        "df['tweet_created'].max()"
      ],
      "execution_count": null,
      "outputs": [
        {
          "output_type": "execute_result",
          "data": {
            "text/plain": [
              "datetime.date(2015, 2, 24)"
            ]
          },
          "metadata": {
            "tags": []
          },
          "execution_count": 23
        }
      ]
    },
    {
      "cell_type": "code",
      "metadata": {
        "id": "QmaYZ3szTYuw"
      },
      "source": [
        "df_negativereason__date = pd.crosstab(df.tweet_created,df.airline)"
      ],
      "execution_count": null,
      "outputs": []
    },
    {
      "cell_type": "code",
      "metadata": {
        "colab": {
          "base_uri": "https://localhost:8080/",
          "height": 400
        },
        "id": "8w5oSdagTn5F",
        "outputId": "fa090a13-4eba-4c75-dc00-59c7846b6978"
      },
      "source": [
        "df_negativereason__date.plot(kind='bar',figsize=(10,5))"
      ],
      "execution_count": null,
      "outputs": [
        {
          "output_type": "execute_result",
          "data": {
            "text/plain": [
              "<matplotlib.axes._subplots.AxesSubplot at 0x7f71859b10d0>"
            ]
          },
          "metadata": {
            "tags": []
          },
          "execution_count": 25
        },
        {
          "output_type": "display_data",
          "data": {
            "image/png": "[encoded data removed]",
            "text/plain": [
              "<Figure size 720x360 with 1 Axes>"
            ]
          },
          "metadata": {
            "tags": [],
            "needs_background": "light"
          }
        }
      ]
    },
    {
      "cell_type": "code",
      "metadata": {
        "id": "-8rdEmeFTze4"
      },
      "source": [
        "## Data Cleaning"
      ],
      "execution_count": null,
      "outputs": []
    },
    {
      "cell_type": "code",
      "metadata": {
        "id": "GAEsYno0VB-D"
      },
      "source": [
        "stops = set(stopwords.words('english'))"
      ],
      "execution_count": null,
      "outputs": []
    },
    {
      "cell_type": "code",
      "metadata": {
        "colab": {
          "base_uri": "https://localhost:8080/"
        },
        "id": "d2WBTwXhVQJJ",
        "outputId": "717c810f-2868-4205-84bc-9c53d5f56ffb"
      },
      "source": [
        "stops"
      ],
      "execution_count": null,
      "outputs": [
        {
          "output_type": "execute_result",
          "data": {
            "text/plain": [
              "{'a',\n",
              " 'about',\n",
              " 'above',\n",
              " 'after',\n",
              " 'again',\n",
              " 'against',\n",
              " 'ain',\n",
              " 'all',\n",
              " 'am',\n",
              " 'an',\n",
              " 'and',\n",
              " 'any',\n",
              " 'are',\n",
              " 'aren',\n",
              " \"aren't\",\n",
              " 'as',\n",
              " 'at',\n",
              " 'be',\n",
              " 'because',\n",
              " 'been',\n",
              " 'before',\n",
              " 'being',\n",
              " 'below',\n",
              " 'between',\n",
              " 'both',\n",
              " 'but',\n",
              " 'by',\n",
              " 'can',\n",
              " 'couldn',\n",
              " \"couldn't\",\n",
              " 'd',\n",
              " 'did',\n",
              " 'didn',\n",
              " \"didn't\",\n",
              " 'do',\n",
              " 'does',\n",
              " 'doesn',\n",
              " \"doesn't\",\n",
              " 'doing',\n",
              " 'don',\n",
              " \"don't\",\n",
              " 'down',\n",
              " 'during',\n",
              " 'each',\n",
              " 'few',\n",
              " 'for',\n",
              " 'from',\n",
              " 'further',\n",
              " 'had',\n",
              " 'hadn',\n",
              " \"hadn't\",\n",
              " 'has',\n",
              " 'hasn',\n",
              " \"hasn't\",\n",
              " 'have',\n",
              " 'haven',\n",
              " \"haven't\",\n",
              " 'having',\n",
              " 'he',\n",
              " 'her',\n",
              " 'here',\n",
              " 'hers',\n",
              " 'herself',\n",
              " 'him',\n",
              " 'himself',\n",
              " 'his',\n",
              " 'how',\n",
              " 'i',\n",
              " 'if',\n",
              " 'in',\n",
              " 'into',\n",
              " 'is',\n",
              " 'isn',\n",
              " \"isn't\",\n",
              " 'it',\n",
              " \"it's\",\n",
              " 'its',\n",
              " 'itself',\n",
              " 'just',\n",
              " 'll',\n",
              " 'm',\n",
              " 'ma',\n",
              " 'me',\n",
              " 'mightn',\n",
              " \"mightn't\",\n",
              " 'more',\n",
              " 'most',\n",
              " 'mustn',\n",
              " \"mustn't\",\n",
              " 'my',\n",
              " 'myself',\n",
              " 'needn',\n",
              " \"needn't\",\n",
              " 'no',\n",
              " 'nor',\n",
              " 'not',\n",
              " 'now',\n",
              " 'o',\n",
              " 'of',\n",
              " 'off',\n",
              " 'on',\n",
              " 'once',\n",
              " 'only',\n",
              " 'or',\n",
              " 'other',\n",
              " 'our',\n",
              " 'ours',\n",
              " 'ourselves',\n",
              " 'out',\n",
              " 'over',\n",
              " 'own',\n",
              " 're',\n",
              " 's',\n",
              " 'same',\n",
              " 'shan',\n",
              " \"shan't\",\n",
              " 'she',\n",
              " \"she's\",\n",
              " 'should',\n",
              " \"should've\",\n",
              " 'shouldn',\n",
              " \"shouldn't\",\n",
              " 'so',\n",
              " 'some',\n",
              " 'such',\n",
              " 't',\n",
              " 'than',\n",
              " 'that',\n",
              " \"that'll\",\n",
              " 'the',\n",
              " 'their',\n",
              " 'theirs',\n",
              " 'them',\n",
              " 'themselves',\n",
              " 'then',\n",
              " 'there',\n",
              " 'these',\n",
              " 'they',\n",
              " 'this',\n",
              " 'those',\n",
              " 'through',\n",
              " 'to',\n",
              " 'too',\n",
              " 'under',\n",
              " 'until',\n",
              " 'up',\n",
              " 've',\n",
              " 'very',\n",
              " 'was',\n",
              " 'wasn',\n",
              " \"wasn't\",\n",
              " 'we',\n",
              " 'were',\n",
              " 'weren',\n",
              " \"weren't\",\n",
              " 'what',\n",
              " 'when',\n",
              " 'where',\n",
              " 'which',\n",
              " 'while',\n",
              " 'who',\n",
              " 'whom',\n",
              " 'why',\n",
              " 'will',\n",
              " 'with',\n",
              " 'won',\n",
              " \"won't\",\n",
              " 'wouldn',\n",
              " \"wouldn't\",\n",
              " 'y',\n",
              " 'you',\n",
              " \"you'd\",\n",
              " \"you'll\",\n",
              " \"you're\",\n",
              " \"you've\",\n",
              " 'your',\n",
              " 'yours',\n",
              " 'yourself',\n",
              " 'yourselves'}"
            ]
          },
          "metadata": {
            "tags": []
          },
          "execution_count": 28
        }
      ]
    },
    {
      "cell_type": "code",
      "metadata": {
        "colab": {
          "base_uri": "https://localhost:8080/"
        },
        "id": "Fq98D8wHVRpi",
        "outputId": "3eac8c40-f587-479c-efda-16f4ed8884d4"
      },
      "source": [
        "len(stops)"
      ],
      "execution_count": null,
      "outputs": [
        {
          "output_type": "execute_result",
          "data": {
            "text/plain": [
              "179"
            ]
          },
          "metadata": {
            "tags": []
          },
          "execution_count": 29
        }
      ]
    },
    {
      "cell_type": "code",
      "metadata": {
        "id": "EW7COtqyVVxe"
      },
      "source": [
        "def data_clean(sentence):\n",
        "  words = sentence.lower()  ## it converts all captital letters into small letters\n",
        "  words = re.sub('[^a-z]',' ',words) ## re=regex function it will replace the unnecessary characters to space here, ^ means allowed\n",
        "  words = words.split()  ## creating a list\n",
        "  important_words = [w for w in words if w not in stops] ## filtering important words\n",
        "  return(' '.join(important_words))  ## to join into a sentence"
      ],
      "execution_count": null,
      "outputs": []
    },
    {
      "cell_type": "code",
      "metadata": {
        "id": "Sv-OjG9hYvOZ"
      },
      "source": [
        "ex = 'it is 9:45 but we are not tired we still want to learn deep learning and i have a office to go tomorrow and anything else needed'"
      ],
      "execution_count": null,
      "outputs": []
    },
    {
      "cell_type": "code",
      "metadata": {
        "colab": {
          "base_uri": "https://localhost:8080/",
          "height": 35
        },
        "id": "LgT-hYoaZKmV",
        "outputId": "23e58650-64fd-47d5-a2b9-220f1a3e5fc3"
      },
      "source": [
        "data_clean(ex)"
      ],
      "execution_count": null,
      "outputs": [
        {
          "output_type": "execute_result",
          "data": {
            "application/vnd.google.colaboratory.intrinsic+json": {
              "type": "string"
            },
            "text/plain": [
              "'tired still want learn deep learning office go tomorrow anything else needed'"
            ]
          },
          "metadata": {
            "tags": []
          },
          "execution_count": 32
        }
      ]
    },
    {
      "cell_type": "code",
      "metadata": {
        "colab": {
          "base_uri": "https://localhost:8080/",
          "height": 279
        },
        "id": "2VmM2fjtZNep",
        "outputId": "b66131ac-780d-4487-a8e1-e6766a821a09"
      },
      "source": [
        "df.head()"
      ],
      "execution_count": null,
      "outputs": [
        {
          "output_type": "execute_result",
          "data": {
            "text/html": [
              "<div>\n",
              "<style scoped>\n",
              "    .dataframe tbody tr th:only-of-type {\n",
              "        vertical-align: middle;\n",
              "    }\n",
              "\n",
              "    .dataframe tbody tr th {\n",
              "        vertical-align: top;\n",
              "    }\n",
              "\n",
              "    .dataframe thead th {\n",
              "        text-align: right;\n",
              "    }\n",
              "</style>\n",
              "<table border=\"1\" class=\"dataframe\">\n",
              "  <thead>\n",
              "    <tr style=\"text-align: right;\">\n",
              "      <th></th>\n",
              "      <th>airline_sentiment</th>\n",
              "      <th>airline_sentiment_confidence</th>\n",
              "      <th>negativereason</th>\n",
              "      <th>airline</th>\n",
              "      <th>name</th>\n",
              "      <th>retweet_count</th>\n",
              "      <th>text</th>\n",
              "      <th>tweet_created</th>\n",
              "    </tr>\n",
              "  </thead>\n",
              "  <tbody>\n",
              "    <tr>\n",
              "      <th>0</th>\n",
              "      <td>neutral</td>\n",
              "      <td>1.0000</td>\n",
              "      <td>NaN</td>\n",
              "      <td>Virgin America</td>\n",
              "      <td>cairdin</td>\n",
              "      <td>0</td>\n",
              "      <td>@VirginAmerica What @dhepburn said.</td>\n",
              "      <td>2015-02-24</td>\n",
              "    </tr>\n",
              "    <tr>\n",
              "      <th>1</th>\n",
              "      <td>positive</td>\n",
              "      <td>0.3486</td>\n",
              "      <td>NaN</td>\n",
              "      <td>Virgin America</td>\n",
              "      <td>jnardino</td>\n",
              "      <td>0</td>\n",
              "      <td>@VirginAmerica plus you've added commercials t...</td>\n",
              "      <td>2015-02-24</td>\n",
              "    </tr>\n",
              "    <tr>\n",
              "      <th>2</th>\n",
              "      <td>neutral</td>\n",
              "      <td>0.6837</td>\n",
              "      <td>NaN</td>\n",
              "      <td>Virgin America</td>\n",
              "      <td>yvonnalynn</td>\n",
              "      <td>0</td>\n",
              "      <td>@VirginAmerica I didn't today... Must mean I n...</td>\n",
              "      <td>2015-02-24</td>\n",
              "    </tr>\n",
              "    <tr>\n",
              "      <th>3</th>\n",
              "      <td>negative</td>\n",
              "      <td>1.0000</td>\n",
              "      <td>Bad Flight</td>\n",
              "      <td>Virgin America</td>\n",
              "      <td>jnardino</td>\n",
              "      <td>0</td>\n",
              "      <td>@VirginAmerica it's really aggressive to blast...</td>\n",
              "      <td>2015-02-24</td>\n",
              "    </tr>\n",
              "    <tr>\n",
              "      <th>4</th>\n",
              "      <td>negative</td>\n",
              "      <td>1.0000</td>\n",
              "      <td>Can't Tell</td>\n",
              "      <td>Virgin America</td>\n",
              "      <td>jnardino</td>\n",
              "      <td>0</td>\n",
              "      <td>@VirginAmerica and it's a really big bad thing...</td>\n",
              "      <td>2015-02-24</td>\n",
              "    </tr>\n",
              "  </tbody>\n",
              "</table>\n",
              "</div>"
            ],
            "text/plain": [
              "  airline_sentiment  ...  tweet_created\n",
              "0           neutral  ...     2015-02-24\n",
              "1          positive  ...     2015-02-24\n",
              "2           neutral  ...     2015-02-24\n",
              "3          negative  ...     2015-02-24\n",
              "4          negative  ...     2015-02-24\n",
              "\n",
              "[5 rows x 8 columns]"
            ]
          },
          "metadata": {
            "tags": []
          },
          "execution_count": 33
        }
      ]
    },
    {
      "cell_type": "code",
      "metadata": {
        "id": "0C3fB-qyZiRI"
      },
      "source": [
        "df['clean_text'] = df.text.apply(lambda x : data_clean(x)) ## lambda function is doing cleaning func to each word"
      ],
      "execution_count": null,
      "outputs": []
    },
    {
      "cell_type": "code",
      "metadata": {
        "colab": {
          "base_uri": "https://localhost:8080/"
        },
        "id": "tzla2WN7Z2eH",
        "outputId": "a7a01f5b-dc5b-4814-b091-70647fa322b8"
      },
      "source": [
        "df.clean_text"
      ],
      "execution_count": null,
      "outputs": [
        {
          "output_type": "execute_result",
          "data": {
            "text/plain": [
              "0                              virginamerica dhepburn said\n",
              "1        virginamerica plus added commercials experienc...\n",
              "2        virginamerica today must mean need take anothe...\n",
              "3        virginamerica really aggressive blast obnoxiou...\n",
              "4                       virginamerica really big bad thing\n",
              "                               ...                        \n",
              "14635       americanair thank got different flight chicago\n",
              "14636    americanair leaving minutes late flight warnin...\n",
              "14637    americanair please bring american airlines bla...\n",
              "14638    americanair money change flight answer phones ...\n",
              "14639    americanair ppl need know many seats next flig...\n",
              "Name: clean_text, Length: 14640, dtype: object"
            ]
          },
          "metadata": {
            "tags": []
          },
          "execution_count": 35
        }
      ]
    },
    {
      "cell_type": "code",
      "metadata": {
        "id": "5E7B3sp2Z6jz"
      },
      "source": [
        "result = df[['text','clean_text']]"
      ],
      "execution_count": null,
      "outputs": []
    },
    {
      "cell_type": "code",
      "metadata": {
        "colab": {
          "base_uri": "https://localhost:8080/",
          "height": 402
        },
        "id": "yPcrSb0uaBYx",
        "outputId": "e7f3c442-5105-46da-e1a5-fe305f84f8f0"
      },
      "source": [
        "result"
      ],
      "execution_count": null,
      "outputs": [
        {
          "output_type": "execute_result",
          "data": {
            "text/html": [
              "<div>\n",
              "<style scoped>\n",
              "    .dataframe tbody tr th:only-of-type {\n",
              "        vertical-align: middle;\n",
              "    }\n",
              "\n",
              "    .dataframe tbody tr th {\n",
              "        vertical-align: top;\n",
              "    }\n",
              "\n",
              "    .dataframe thead th {\n",
              "        text-align: right;\n",
              "    }\n",
              "</style>\n",
              "<table border=\"1\" class=\"dataframe\">\n",
              "  <thead>\n",
              "    <tr style=\"text-align: right;\">\n",
              "      <th></th>\n",
              "      <th>text</th>\n",
              "      <th>clean_text</th>\n",
              "    </tr>\n",
              "  </thead>\n",
              "  <tbody>\n",
              "    <tr>\n",
              "      <th>0</th>\n",
              "      <td>@VirginAmerica What @dhepburn said.</td>\n",
              "      <td>virginamerica dhepburn said</td>\n",
              "    </tr>\n",
              "    <tr>\n",
              "      <th>1</th>\n",
              "      <td>@VirginAmerica plus you've added commercials t...</td>\n",
              "      <td>virginamerica plus added commercials experienc...</td>\n",
              "    </tr>\n",
              "    <tr>\n",
              "      <th>2</th>\n",
              "      <td>@VirginAmerica I didn't today... Must mean I n...</td>\n",
              "      <td>virginamerica today must mean need take anothe...</td>\n",
              "    </tr>\n",
              "    <tr>\n",
              "      <th>3</th>\n",
              "      <td>@VirginAmerica it's really aggressive to blast...</td>\n",
              "      <td>virginamerica really aggressive blast obnoxiou...</td>\n",
              "    </tr>\n",
              "    <tr>\n",
              "      <th>4</th>\n",
              "      <td>@VirginAmerica and it's a really big bad thing...</td>\n",
              "      <td>virginamerica really big bad thing</td>\n",
              "    </tr>\n",
              "    <tr>\n",
              "      <th>...</th>\n",
              "      <td>...</td>\n",
              "      <td>...</td>\n",
              "    </tr>\n",
              "    <tr>\n",
              "      <th>14635</th>\n",
              "      <td>@AmericanAir thank you we got on a different f...</td>\n",
              "      <td>americanair thank got different flight chicago</td>\n",
              "    </tr>\n",
              "    <tr>\n",
              "      <th>14636</th>\n",
              "      <td>@AmericanAir leaving over 20 minutes Late Flig...</td>\n",
              "      <td>americanair leaving minutes late flight warnin...</td>\n",
              "    </tr>\n",
              "    <tr>\n",
              "      <th>14637</th>\n",
              "      <td>@AmericanAir Please bring American Airlines to...</td>\n",
              "      <td>americanair please bring american airlines bla...</td>\n",
              "    </tr>\n",
              "    <tr>\n",
              "      <th>14638</th>\n",
              "      <td>@AmericanAir you have my money, you change my ...</td>\n",
              "      <td>americanair money change flight answer phones ...</td>\n",
              "    </tr>\n",
              "    <tr>\n",
              "      <th>14639</th>\n",
              "      <td>@AmericanAir we have 8 ppl so we need 2 know h...</td>\n",
              "      <td>americanair ppl need know many seats next flig...</td>\n",
              "    </tr>\n",
              "  </tbody>\n",
              "</table>\n",
              "<p>14640 rows × 2 columns</p>\n",
              "</div>"
            ],
            "text/plain": [
              "                                                    text                                         clean_text\n",
              "0                    @VirginAmerica What @dhepburn said.                        virginamerica dhepburn said\n",
              "1      @VirginAmerica plus you've added commercials t...  virginamerica plus added commercials experienc...\n",
              "2      @VirginAmerica I didn't today... Must mean I n...  virginamerica today must mean need take anothe...\n",
              "3      @VirginAmerica it's really aggressive to blast...  virginamerica really aggressive blast obnoxiou...\n",
              "4      @VirginAmerica and it's a really big bad thing...                 virginamerica really big bad thing\n",
              "...                                                  ...                                                ...\n",
              "14635  @AmericanAir thank you we got on a different f...     americanair thank got different flight chicago\n",
              "14636  @AmericanAir leaving over 20 minutes Late Flig...  americanair leaving minutes late flight warnin...\n",
              "14637  @AmericanAir Please bring American Airlines to...  americanair please bring american airlines bla...\n",
              "14638  @AmericanAir you have my money, you change my ...  americanair money change flight answer phones ...\n",
              "14639  @AmericanAir we have 8 ppl so we need 2 know h...  americanair ppl need know many seats next flig...\n",
              "\n",
              "[14640 rows x 2 columns]"
            ]
          },
          "metadata": {
            "tags": []
          },
          "execution_count": 37
        }
      ]
    },
    {
      "cell_type": "code",
      "metadata": {
        "id": "HEDgB3Z0aHy5",
        "colab": {
          "base_uri": "https://localhost:8080/"
        },
        "outputId": "181608ac-0b1d-4c98-8ff6-3bf3810baf5b"
      },
      "source": [
        "result['count_text'] = result['clean_text'].apply(lambda x : len((x).split()))"
      ],
      "execution_count": null,
      "outputs": [
        {
          "output_type": "stream",
          "text": [
            "/usr/local/lib/python3.7/dist-packages/ipykernel_launcher.py:1: SettingWithCopyWarning: \n",
            "A value is trying to be set on a copy of a slice from a DataFrame.\n",
            "Try using .loc[row_indexer,col_indexer] = value instead\n",
            "\n",
            "See the caveats in the documentation: https://pandas.pydata.org/pandas-docs/stable/user_guide/indexing.html#returning-a-view-versus-a-copy\n",
            "  \"\"\"Entry point for launching an IPython kernel.\n"
          ],
          "name": "stderr"
        }
      ]
    },
    {
      "cell_type": "code",
      "metadata": {
        "colab": {
          "base_uri": "https://localhost:8080/",
          "height": 402
        },
        "id": "ZtsLNXiXVYOG",
        "outputId": "665048c4-af64-4dc6-901a-5f8ff468329c"
      },
      "source": [
        "result"
      ],
      "execution_count": null,
      "outputs": [
        {
          "output_type": "execute_result",
          "data": {
            "text/html": [
              "<div>\n",
              "<style scoped>\n",
              "    .dataframe tbody tr th:only-of-type {\n",
              "        vertical-align: middle;\n",
              "    }\n",
              "\n",
              "    .dataframe tbody tr th {\n",
              "        vertical-align: top;\n",
              "    }\n",
              "\n",
              "    .dataframe thead th {\n",
              "        text-align: right;\n",
              "    }\n",
              "</style>\n",
              "<table border=\"1\" class=\"dataframe\">\n",
              "  <thead>\n",
              "    <tr style=\"text-align: right;\">\n",
              "      <th></th>\n",
              "      <th>text</th>\n",
              "      <th>clean_text</th>\n",
              "      <th>count_text</th>\n",
              "    </tr>\n",
              "  </thead>\n",
              "  <tbody>\n",
              "    <tr>\n",
              "      <th>0</th>\n",
              "      <td>@VirginAmerica What @dhepburn said.</td>\n",
              "      <td>virginamerica dhepburn said</td>\n",
              "      <td>3</td>\n",
              "    </tr>\n",
              "    <tr>\n",
              "      <th>1</th>\n",
              "      <td>@VirginAmerica plus you've added commercials t...</td>\n",
              "      <td>virginamerica plus added commercials experienc...</td>\n",
              "      <td>6</td>\n",
              "    </tr>\n",
              "    <tr>\n",
              "      <th>2</th>\n",
              "      <td>@VirginAmerica I didn't today... Must mean I n...</td>\n",
              "      <td>virginamerica today must mean need take anothe...</td>\n",
              "      <td>8</td>\n",
              "    </tr>\n",
              "    <tr>\n",
              "      <th>3</th>\n",
              "      <td>@VirginAmerica it's really aggressive to blast...</td>\n",
              "      <td>virginamerica really aggressive blast obnoxiou...</td>\n",
              "      <td>11</td>\n",
              "    </tr>\n",
              "    <tr>\n",
              "      <th>4</th>\n",
              "      <td>@VirginAmerica and it's a really big bad thing...</td>\n",
              "      <td>virginamerica really big bad thing</td>\n",
              "      <td>5</td>\n",
              "    </tr>\n",
              "    <tr>\n",
              "      <th>...</th>\n",
              "      <td>...</td>\n",
              "      <td>...</td>\n",
              "      <td>...</td>\n",
              "    </tr>\n",
              "    <tr>\n",
              "      <th>14635</th>\n",
              "      <td>@AmericanAir thank you we got on a different f...</td>\n",
              "      <td>americanair thank got different flight chicago</td>\n",
              "      <td>6</td>\n",
              "    </tr>\n",
              "    <tr>\n",
              "      <th>14636</th>\n",
              "      <td>@AmericanAir leaving over 20 minutes Late Flig...</td>\n",
              "      <td>americanair leaving minutes late flight warnin...</td>\n",
              "      <td>14</td>\n",
              "    </tr>\n",
              "    <tr>\n",
              "      <th>14637</th>\n",
              "      <td>@AmericanAir Please bring American Airlines to...</td>\n",
              "      <td>americanair please bring american airlines bla...</td>\n",
              "      <td>6</td>\n",
              "    </tr>\n",
              "    <tr>\n",
              "      <th>14638</th>\n",
              "      <td>@AmericanAir you have my money, you change my ...</td>\n",
              "      <td>americanair money change flight answer phones ...</td>\n",
              "      <td>9</td>\n",
              "    </tr>\n",
              "    <tr>\n",
              "      <th>14639</th>\n",
              "      <td>@AmericanAir we have 8 ppl so we need 2 know h...</td>\n",
              "      <td>americanair ppl need know many seats next flig...</td>\n",
              "      <td>15</td>\n",
              "    </tr>\n",
              "  </tbody>\n",
              "</table>\n",
              "<p>14640 rows × 3 columns</p>\n",
              "</div>"
            ],
            "text/plain": [
              "                                                    text  ... count_text\n",
              "0                    @VirginAmerica What @dhepburn said.  ...          3\n",
              "1      @VirginAmerica plus you've added commercials t...  ...          6\n",
              "2      @VirginAmerica I didn't today... Must mean I n...  ...          8\n",
              "3      @VirginAmerica it's really aggressive to blast...  ...         11\n",
              "4      @VirginAmerica and it's a really big bad thing...  ...          5\n",
              "...                                                  ...  ...        ...\n",
              "14635  @AmericanAir thank you we got on a different f...  ...          6\n",
              "14636  @AmericanAir leaving over 20 minutes Late Flig...  ...         14\n",
              "14637  @AmericanAir Please bring American Airlines to...  ...          6\n",
              "14638  @AmericanAir you have my money, you change my ...  ...          9\n",
              "14639  @AmericanAir we have 8 ppl so we need 2 know h...  ...         15\n",
              "\n",
              "[14640 rows x 3 columns]"
            ]
          },
          "metadata": {
            "tags": []
          },
          "execution_count": 39
        }
      ]
    },
    {
      "cell_type": "code",
      "metadata": {
        "colab": {
          "base_uri": "https://localhost:8080/"
        },
        "id": "tI4LdFk9WR1r",
        "outputId": "1edcc915-adf3-4c87-eb32-d52132da91a6"
      },
      "source": [
        "result['airline_sentiment'] = df['airline_sentiment'] ## joining a column"
      ],
      "execution_count": null,
      "outputs": [
        {
          "output_type": "stream",
          "text": [
            "/usr/local/lib/python3.7/dist-packages/ipykernel_launcher.py:1: SettingWithCopyWarning: \n",
            "A value is trying to be set on a copy of a slice from a DataFrame.\n",
            "Try using .loc[row_indexer,col_indexer] = value instead\n",
            "\n",
            "See the caveats in the documentation: https://pandas.pydata.org/pandas-docs/stable/user_guide/indexing.html#returning-a-view-versus-a-copy\n",
            "  \"\"\"Entry point for launching an IPython kernel.\n"
          ],
          "name": "stderr"
        }
      ]
    },
    {
      "cell_type": "code",
      "metadata": {
        "colab": {
          "base_uri": "https://localhost:8080/",
          "height": 402
        },
        "id": "J3E3i8wlXCIJ",
        "outputId": "4978b1f0-6d2f-4263-e258-6d4857682c61"
      },
      "source": [
        "result"
      ],
      "execution_count": null,
      "outputs": [
        {
          "output_type": "execute_result",
          "data": {
            "text/html": [
              "<div>\n",
              "<style scoped>\n",
              "    .dataframe tbody tr th:only-of-type {\n",
              "        vertical-align: middle;\n",
              "    }\n",
              "\n",
              "    .dataframe tbody tr th {\n",
              "        vertical-align: top;\n",
              "    }\n",
              "\n",
              "    .dataframe thead th {\n",
              "        text-align: right;\n",
              "    }\n",
              "</style>\n",
              "<table border=\"1\" class=\"dataframe\">\n",
              "  <thead>\n",
              "    <tr style=\"text-align: right;\">\n",
              "      <th></th>\n",
              "      <th>text</th>\n",
              "      <th>clean_text</th>\n",
              "      <th>count_text</th>\n",
              "      <th>airline_sentiment</th>\n",
              "    </tr>\n",
              "  </thead>\n",
              "  <tbody>\n",
              "    <tr>\n",
              "      <th>0</th>\n",
              "      <td>@VirginAmerica What @dhepburn said.</td>\n",
              "      <td>virginamerica dhepburn said</td>\n",
              "      <td>3</td>\n",
              "      <td>neutral</td>\n",
              "    </tr>\n",
              "    <tr>\n",
              "      <th>1</th>\n",
              "      <td>@VirginAmerica plus you've added commercials t...</td>\n",
              "      <td>virginamerica plus added commercials experienc...</td>\n",
              "      <td>6</td>\n",
              "      <td>positive</td>\n",
              "    </tr>\n",
              "    <tr>\n",
              "      <th>2</th>\n",
              "      <td>@VirginAmerica I didn't today... Must mean I n...</td>\n",
              "      <td>virginamerica today must mean need take anothe...</td>\n",
              "      <td>8</td>\n",
              "      <td>neutral</td>\n",
              "    </tr>\n",
              "    <tr>\n",
              "      <th>3</th>\n",
              "      <td>@VirginAmerica it's really aggressive to blast...</td>\n",
              "      <td>virginamerica really aggressive blast obnoxiou...</td>\n",
              "      <td>11</td>\n",
              "      <td>negative</td>\n",
              "    </tr>\n",
              "    <tr>\n",
              "      <th>4</th>\n",
              "      <td>@VirginAmerica and it's a really big bad thing...</td>\n",
              "      <td>virginamerica really big bad thing</td>\n",
              "      <td>5</td>\n",
              "      <td>negative</td>\n",
              "    </tr>\n",
              "    <tr>\n",
              "      <th>...</th>\n",
              "      <td>...</td>\n",
              "      <td>...</td>\n",
              "      <td>...</td>\n",
              "      <td>...</td>\n",
              "    </tr>\n",
              "    <tr>\n",
              "      <th>14635</th>\n",
              "      <td>@AmericanAir thank you we got on a different f...</td>\n",
              "      <td>americanair thank got different flight chicago</td>\n",
              "      <td>6</td>\n",
              "      <td>positive</td>\n",
              "    </tr>\n",
              "    <tr>\n",
              "      <th>14636</th>\n",
              "      <td>@AmericanAir leaving over 20 minutes Late Flig...</td>\n",
              "      <td>americanair leaving minutes late flight warnin...</td>\n",
              "      <td>14</td>\n",
              "      <td>negative</td>\n",
              "    </tr>\n",
              "    <tr>\n",
              "      <th>14637</th>\n",
              "      <td>@AmericanAir Please bring American Airlines to...</td>\n",
              "      <td>americanair please bring american airlines bla...</td>\n",
              "      <td>6</td>\n",
              "      <td>neutral</td>\n",
              "    </tr>\n",
              "    <tr>\n",
              "      <th>14638</th>\n",
              "      <td>@AmericanAir you have my money, you change my ...</td>\n",
              "      <td>americanair money change flight answer phones ...</td>\n",
              "      <td>9</td>\n",
              "      <td>negative</td>\n",
              "    </tr>\n",
              "    <tr>\n",
              "      <th>14639</th>\n",
              "      <td>@AmericanAir we have 8 ppl so we need 2 know h...</td>\n",
              "      <td>americanair ppl need know many seats next flig...</td>\n",
              "      <td>15</td>\n",
              "      <td>neutral</td>\n",
              "    </tr>\n",
              "  </tbody>\n",
              "</table>\n",
              "<p>14640 rows × 4 columns</p>\n",
              "</div>"
            ],
            "text/plain": [
              "                                                    text  ... airline_sentiment\n",
              "0                    @VirginAmerica What @dhepburn said.  ...           neutral\n",
              "1      @VirginAmerica plus you've added commercials t...  ...          positive\n",
              "2      @VirginAmerica I didn't today... Must mean I n...  ...           neutral\n",
              "3      @VirginAmerica it's really aggressive to blast...  ...          negative\n",
              "4      @VirginAmerica and it's a really big bad thing...  ...          negative\n",
              "...                                                  ...  ...               ...\n",
              "14635  @AmericanAir thank you we got on a different f...  ...          positive\n",
              "14636  @AmericanAir leaving over 20 minutes Late Flig...  ...          negative\n",
              "14637  @AmericanAir Please bring American Airlines to...  ...           neutral\n",
              "14638  @AmericanAir you have my money, you change my ...  ...          negative\n",
              "14639  @AmericanAir we have 8 ppl so we need 2 know h...  ...           neutral\n",
              "\n",
              "[14640 rows x 4 columns]"
            ]
          },
          "metadata": {
            "tags": []
          },
          "execution_count": 41
        }
      ]
    },
    {
      "cell_type": "code",
      "metadata": {
        "colab": {
          "base_uri": "https://localhost:8080/"
        },
        "id": "xURVV4IlXDhj",
        "outputId": "0666f044-986c-4e32-e975-88b9f5ec0b6f"
      },
      "source": [
        "result['count_text'].min()"
      ],
      "execution_count": null,
      "outputs": [
        {
          "output_type": "execute_result",
          "data": {
            "text/plain": [
              "1"
            ]
          },
          "metadata": {
            "tags": []
          },
          "execution_count": 42
        }
      ]
    },
    {
      "cell_type": "code",
      "metadata": {
        "colab": {
          "base_uri": "https://localhost:8080/"
        },
        "id": "HlB_AGhvXg70",
        "outputId": "05058ea0-0b22-4178-df75-835c7b1e1206"
      },
      "source": [
        "result['count_text'].max()"
      ],
      "execution_count": null,
      "outputs": [
        {
          "output_type": "execute_result",
          "data": {
            "text/plain": [
              "23"
            ]
          },
          "metadata": {
            "tags": []
          },
          "execution_count": 43
        }
      ]
    },
    {
      "cell_type": "code",
      "metadata": {
        "colab": {
          "base_uri": "https://localhost:8080/",
          "height": 282
        },
        "id": "Lry58n89Xjuc",
        "outputId": "b48d8db3-f6f1-46d7-bdb0-f76696d6d773"
      },
      "source": [
        "result['count_text'].plot(kind='hist')"
      ],
      "execution_count": null,
      "outputs": [
        {
          "output_type": "execute_result",
          "data": {
            "text/plain": [
              "<matplotlib.axes._subplots.AxesSubplot at 0x7f71854741d0>"
            ]
          },
          "metadata": {
            "tags": []
          },
          "execution_count": 44
        },
        {
          "output_type": "display_data",
          "data": {
            "image/png": "[encoded data removed]",
            "text/plain": [
              "<Figure size 432x288 with 1 Axes>"
            ]
          },
          "metadata": {
            "tags": [],
            "needs_background": "light"
          }
        }
      ]
    },
    {
      "cell_type": "code",
      "metadata": {
        "colab": {
          "base_uri": "https://localhost:8080/"
        },
        "id": "9fFLGoeGXpXB",
        "outputId": "e1bc4390-e10d-46aa-ca9a-1bddd808fc59"
      },
      "source": [
        "result.drop(['text','count_text'],inplace=True,axis=1)"
      ],
      "execution_count": null,
      "outputs": [
        {
          "output_type": "stream",
          "text": [
            "/usr/local/lib/python3.7/dist-packages/pandas/core/frame.py:4174: SettingWithCopyWarning: \n",
            "A value is trying to be set on a copy of a slice from a DataFrame\n",
            "\n",
            "See the caveats in the documentation: https://pandas.pydata.org/pandas-docs/stable/user_guide/indexing.html#returning-a-view-versus-a-copy\n",
            "  errors=errors,\n"
          ],
          "name": "stderr"
        }
      ]
    },
    {
      "cell_type": "code",
      "metadata": {
        "colab": {
          "base_uri": "https://localhost:8080/",
          "height": 402
        },
        "id": "rOkXzPSFYEeP",
        "outputId": "50f219da-dd39-4788-9b7f-a0b1f2bd7bc7"
      },
      "source": [
        "result"
      ],
      "execution_count": null,
      "outputs": [
        {
          "output_type": "execute_result",
          "data": {
            "text/html": [
              "<div>\n",
              "<style scoped>\n",
              "    .dataframe tbody tr th:only-of-type {\n",
              "        vertical-align: middle;\n",
              "    }\n",
              "\n",
              "    .dataframe tbody tr th {\n",
              "        vertical-align: top;\n",
              "    }\n",
              "\n",
              "    .dataframe thead th {\n",
              "        text-align: right;\n",
              "    }\n",
              "</style>\n",
              "<table border=\"1\" class=\"dataframe\">\n",
              "  <thead>\n",
              "    <tr style=\"text-align: right;\">\n",
              "      <th></th>\n",
              "      <th>clean_text</th>\n",
              "      <th>airline_sentiment</th>\n",
              "    </tr>\n",
              "  </thead>\n",
              "  <tbody>\n",
              "    <tr>\n",
              "      <th>0</th>\n",
              "      <td>virginamerica dhepburn said</td>\n",
              "      <td>neutral</td>\n",
              "    </tr>\n",
              "    <tr>\n",
              "      <th>1</th>\n",
              "      <td>virginamerica plus added commercials experienc...</td>\n",
              "      <td>positive</td>\n",
              "    </tr>\n",
              "    <tr>\n",
              "      <th>2</th>\n",
              "      <td>virginamerica today must mean need take anothe...</td>\n",
              "      <td>neutral</td>\n",
              "    </tr>\n",
              "    <tr>\n",
              "      <th>3</th>\n",
              "      <td>virginamerica really aggressive blast obnoxiou...</td>\n",
              "      <td>negative</td>\n",
              "    </tr>\n",
              "    <tr>\n",
              "      <th>4</th>\n",
              "      <td>virginamerica really big bad thing</td>\n",
              "      <td>negative</td>\n",
              "    </tr>\n",
              "    <tr>\n",
              "      <th>...</th>\n",
              "      <td>...</td>\n",
              "      <td>...</td>\n",
              "    </tr>\n",
              "    <tr>\n",
              "      <th>14635</th>\n",
              "      <td>americanair thank got different flight chicago</td>\n",
              "      <td>positive</td>\n",
              "    </tr>\n",
              "    <tr>\n",
              "      <th>14636</th>\n",
              "      <td>americanair leaving minutes late flight warnin...</td>\n",
              "      <td>negative</td>\n",
              "    </tr>\n",
              "    <tr>\n",
              "      <th>14637</th>\n",
              "      <td>americanair please bring american airlines bla...</td>\n",
              "      <td>neutral</td>\n",
              "    </tr>\n",
              "    <tr>\n",
              "      <th>14638</th>\n",
              "      <td>americanair money change flight answer phones ...</td>\n",
              "      <td>negative</td>\n",
              "    </tr>\n",
              "    <tr>\n",
              "      <th>14639</th>\n",
              "      <td>americanair ppl need know many seats next flig...</td>\n",
              "      <td>neutral</td>\n",
              "    </tr>\n",
              "  </tbody>\n",
              "</table>\n",
              "<p>14640 rows × 2 columns</p>\n",
              "</div>"
            ],
            "text/plain": [
              "                                              clean_text airline_sentiment\n",
              "0                            virginamerica dhepburn said           neutral\n",
              "1      virginamerica plus added commercials experienc...          positive\n",
              "2      virginamerica today must mean need take anothe...           neutral\n",
              "3      virginamerica really aggressive blast obnoxiou...          negative\n",
              "4                     virginamerica really big bad thing          negative\n",
              "...                                                  ...               ...\n",
              "14635     americanair thank got different flight chicago          positive\n",
              "14636  americanair leaving minutes late flight warnin...          negative\n",
              "14637  americanair please bring american airlines bla...           neutral\n",
              "14638  americanair money change flight answer phones ...          negative\n",
              "14639  americanair ppl need know many seats next flig...           neutral\n",
              "\n",
              "[14640 rows x 2 columns]"
            ]
          },
          "metadata": {
            "tags": []
          },
          "execution_count": 46
        }
      ]
    },
    {
      "cell_type": "code",
      "metadata": {
        "id": "ckVpKtJ4YZ5K"
      },
      "source": [
        "new_df = result"
      ],
      "execution_count": null,
      "outputs": []
    },
    {
      "cell_type": "code",
      "metadata": {
        "colab": {
          "base_uri": "https://localhost:8080/",
          "height": 402
        },
        "id": "KE6LhFPFYiQI",
        "outputId": "9ce16d65-9d45-41e7-a94c-54db14a52330"
      },
      "source": [
        "new_df"
      ],
      "execution_count": null,
      "outputs": [
        {
          "output_type": "execute_result",
          "data": {
            "text/html": [
              "<div>\n",
              "<style scoped>\n",
              "    .dataframe tbody tr th:only-of-type {\n",
              "        vertical-align: middle;\n",
              "    }\n",
              "\n",
              "    .dataframe tbody tr th {\n",
              "        vertical-align: top;\n",
              "    }\n",
              "\n",
              "    .dataframe thead th {\n",
              "        text-align: right;\n",
              "    }\n",
              "</style>\n",
              "<table border=\"1\" class=\"dataframe\">\n",
              "  <thead>\n",
              "    <tr style=\"text-align: right;\">\n",
              "      <th></th>\n",
              "      <th>clean_text</th>\n",
              "      <th>airline_sentiment</th>\n",
              "    </tr>\n",
              "  </thead>\n",
              "  <tbody>\n",
              "    <tr>\n",
              "      <th>0</th>\n",
              "      <td>virginamerica dhepburn said</td>\n",
              "      <td>neutral</td>\n",
              "    </tr>\n",
              "    <tr>\n",
              "      <th>1</th>\n",
              "      <td>virginamerica plus added commercials experienc...</td>\n",
              "      <td>positive</td>\n",
              "    </tr>\n",
              "    <tr>\n",
              "      <th>2</th>\n",
              "      <td>virginamerica today must mean need take anothe...</td>\n",
              "      <td>neutral</td>\n",
              "    </tr>\n",
              "    <tr>\n",
              "      <th>3</th>\n",
              "      <td>virginamerica really aggressive blast obnoxiou...</td>\n",
              "      <td>negative</td>\n",
              "    </tr>\n",
              "    <tr>\n",
              "      <th>4</th>\n",
              "      <td>virginamerica really big bad thing</td>\n",
              "      <td>negative</td>\n",
              "    </tr>\n",
              "    <tr>\n",
              "      <th>...</th>\n",
              "      <td>...</td>\n",
              "      <td>...</td>\n",
              "    </tr>\n",
              "    <tr>\n",
              "      <th>14635</th>\n",
              "      <td>americanair thank got different flight chicago</td>\n",
              "      <td>positive</td>\n",
              "    </tr>\n",
              "    <tr>\n",
              "      <th>14636</th>\n",
              "      <td>americanair leaving minutes late flight warnin...</td>\n",
              "      <td>negative</td>\n",
              "    </tr>\n",
              "    <tr>\n",
              "      <th>14637</th>\n",
              "      <td>americanair please bring american airlines bla...</td>\n",
              "      <td>neutral</td>\n",
              "    </tr>\n",
              "    <tr>\n",
              "      <th>14638</th>\n",
              "      <td>americanair money change flight answer phones ...</td>\n",
              "      <td>negative</td>\n",
              "    </tr>\n",
              "    <tr>\n",
              "      <th>14639</th>\n",
              "      <td>americanair ppl need know many seats next flig...</td>\n",
              "      <td>neutral</td>\n",
              "    </tr>\n",
              "  </tbody>\n",
              "</table>\n",
              "<p>14640 rows × 2 columns</p>\n",
              "</div>"
            ],
            "text/plain": [
              "                                              clean_text airline_sentiment\n",
              "0                            virginamerica dhepburn said           neutral\n",
              "1      virginamerica plus added commercials experienc...          positive\n",
              "2      virginamerica today must mean need take anothe...           neutral\n",
              "3      virginamerica really aggressive blast obnoxiou...          negative\n",
              "4                     virginamerica really big bad thing          negative\n",
              "...                                                  ...               ...\n",
              "14635     americanair thank got different flight chicago          positive\n",
              "14636  americanair leaving minutes late flight warnin...          negative\n",
              "14637  americanair please bring american airlines bla...           neutral\n",
              "14638  americanair money change flight answer phones ...          negative\n",
              "14639  americanair ppl need know many seats next flig...           neutral\n",
              "\n",
              "[14640 rows x 2 columns]"
            ]
          },
          "metadata": {
            "tags": []
          },
          "execution_count": 48
        }
      ]
    },
    {
      "cell_type": "code",
      "metadata": {
        "id": "Y5OmfURbYje6"
      },
      "source": [
        "new_df = pd.get_dummies(new_df['airline_sentiment'],columns=['neutral','positive','negative'])"
      ],
      "execution_count": null,
      "outputs": []
    },
    {
      "cell_type": "code",
      "metadata": {
        "colab": {
          "base_uri": "https://localhost:8080/",
          "height": 402
        },
        "id": "roBbxjMdY8wx",
        "outputId": "b4c01f6f-de02-4afe-d72d-f83bfe0879b3"
      },
      "source": [
        "new_df"
      ],
      "execution_count": null,
      "outputs": [
        {
          "output_type": "execute_result",
          "data": {
            "text/html": [
              "<div>\n",
              "<style scoped>\n",
              "    .dataframe tbody tr th:only-of-type {\n",
              "        vertical-align: middle;\n",
              "    }\n",
              "\n",
              "    .dataframe tbody tr th {\n",
              "        vertical-align: top;\n",
              "    }\n",
              "\n",
              "    .dataframe thead th {\n",
              "        text-align: right;\n",
              "    }\n",
              "</style>\n",
              "<table border=\"1\" class=\"dataframe\">\n",
              "  <thead>\n",
              "    <tr style=\"text-align: right;\">\n",
              "      <th></th>\n",
              "      <th>negative</th>\n",
              "      <th>neutral</th>\n",
              "      <th>positive</th>\n",
              "    </tr>\n",
              "  </thead>\n",
              "  <tbody>\n",
              "    <tr>\n",
              "      <th>0</th>\n",
              "      <td>0</td>\n",
              "      <td>1</td>\n",
              "      <td>0</td>\n",
              "    </tr>\n",
              "    <tr>\n",
              "      <th>1</th>\n",
              "      <td>0</td>\n",
              "      <td>0</td>\n",
              "      <td>1</td>\n",
              "    </tr>\n",
              "    <tr>\n",
              "      <th>2</th>\n",
              "      <td>0</td>\n",
              "      <td>1</td>\n",
              "      <td>0</td>\n",
              "    </tr>\n",
              "    <tr>\n",
              "      <th>3</th>\n",
              "      <td>1</td>\n",
              "      <td>0</td>\n",
              "      <td>0</td>\n",
              "    </tr>\n",
              "    <tr>\n",
              "      <th>4</th>\n",
              "      <td>1</td>\n",
              "      <td>0</td>\n",
              "      <td>0</td>\n",
              "    </tr>\n",
              "    <tr>\n",
              "      <th>...</th>\n",
              "      <td>...</td>\n",
              "      <td>...</td>\n",
              "      <td>...</td>\n",
              "    </tr>\n",
              "    <tr>\n",
              "      <th>14635</th>\n",
              "      <td>0</td>\n",
              "      <td>0</td>\n",
              "      <td>1</td>\n",
              "    </tr>\n",
              "    <tr>\n",
              "      <th>14636</th>\n",
              "      <td>1</td>\n",
              "      <td>0</td>\n",
              "      <td>0</td>\n",
              "    </tr>\n",
              "    <tr>\n",
              "      <th>14637</th>\n",
              "      <td>0</td>\n",
              "      <td>1</td>\n",
              "      <td>0</td>\n",
              "    </tr>\n",
              "    <tr>\n",
              "      <th>14638</th>\n",
              "      <td>1</td>\n",
              "      <td>0</td>\n",
              "      <td>0</td>\n",
              "    </tr>\n",
              "    <tr>\n",
              "      <th>14639</th>\n",
              "      <td>0</td>\n",
              "      <td>1</td>\n",
              "      <td>0</td>\n",
              "    </tr>\n",
              "  </tbody>\n",
              "</table>\n",
              "<p>14640 rows × 3 columns</p>\n",
              "</div>"
            ],
            "text/plain": [
              "       negative  neutral  positive\n",
              "0             0        1         0\n",
              "1             0        0         1\n",
              "2             0        1         0\n",
              "3             1        0         0\n",
              "4             1        0         0\n",
              "...         ...      ...       ...\n",
              "14635         0        0         1\n",
              "14636         1        0         0\n",
              "14637         0        1         0\n",
              "14638         1        0         0\n",
              "14639         0        1         0\n",
              "\n",
              "[14640 rows x 3 columns]"
            ]
          },
          "metadata": {
            "tags": []
          },
          "execution_count": 50
        }
      ]
    },
    {
      "cell_type": "code",
      "metadata": {
        "id": "CBrO9XkSY-Xy"
      },
      "source": [
        "encoded_df = result.join(new_df)"
      ],
      "execution_count": null,
      "outputs": []
    },
    {
      "cell_type": "code",
      "metadata": {
        "colab": {
          "base_uri": "https://localhost:8080/",
          "height": 402
        },
        "id": "dsLNjufma5I2",
        "outputId": "748fbebc-8e95-4f3e-e9e5-daf24ff2b573"
      },
      "source": [
        "encoded_df"
      ],
      "execution_count": null,
      "outputs": [
        {
          "output_type": "execute_result",
          "data": {
            "text/html": [
              "<div>\n",
              "<style scoped>\n",
              "    .dataframe tbody tr th:only-of-type {\n",
              "        vertical-align: middle;\n",
              "    }\n",
              "\n",
              "    .dataframe tbody tr th {\n",
              "        vertical-align: top;\n",
              "    }\n",
              "\n",
              "    .dataframe thead th {\n",
              "        text-align: right;\n",
              "    }\n",
              "</style>\n",
              "<table border=\"1\" class=\"dataframe\">\n",
              "  <thead>\n",
              "    <tr style=\"text-align: right;\">\n",
              "      <th></th>\n",
              "      <th>clean_text</th>\n",
              "      <th>airline_sentiment</th>\n",
              "      <th>negative</th>\n",
              "      <th>neutral</th>\n",
              "      <th>positive</th>\n",
              "    </tr>\n",
              "  </thead>\n",
              "  <tbody>\n",
              "    <tr>\n",
              "      <th>0</th>\n",
              "      <td>virginamerica dhepburn said</td>\n",
              "      <td>neutral</td>\n",
              "      <td>0</td>\n",
              "      <td>1</td>\n",
              "      <td>0</td>\n",
              "    </tr>\n",
              "    <tr>\n",
              "      <th>1</th>\n",
              "      <td>virginamerica plus added commercials experienc...</td>\n",
              "      <td>positive</td>\n",
              "      <td>0</td>\n",
              "      <td>0</td>\n",
              "      <td>1</td>\n",
              "    </tr>\n",
              "    <tr>\n",
              "      <th>2</th>\n",
              "      <td>virginamerica today must mean need take anothe...</td>\n",
              "      <td>neutral</td>\n",
              "      <td>0</td>\n",
              "      <td>1</td>\n",
              "      <td>0</td>\n",
              "    </tr>\n",
              "    <tr>\n",
              "      <th>3</th>\n",
              "      <td>virginamerica really aggressive blast obnoxiou...</td>\n",
              "      <td>negative</td>\n",
              "      <td>1</td>\n",
              "      <td>0</td>\n",
              "      <td>0</td>\n",
              "    </tr>\n",
              "    <tr>\n",
              "      <th>4</th>\n",
              "      <td>virginamerica really big bad thing</td>\n",
              "      <td>negative</td>\n",
              "      <td>1</td>\n",
              "      <td>0</td>\n",
              "      <td>0</td>\n",
              "    </tr>\n",
              "    <tr>\n",
              "      <th>...</th>\n",
              "      <td>...</td>\n",
              "      <td>...</td>\n",
              "      <td>...</td>\n",
              "      <td>...</td>\n",
              "      <td>...</td>\n",
              "    </tr>\n",
              "    <tr>\n",
              "      <th>14635</th>\n",
              "      <td>americanair thank got different flight chicago</td>\n",
              "      <td>positive</td>\n",
              "      <td>0</td>\n",
              "      <td>0</td>\n",
              "      <td>1</td>\n",
              "    </tr>\n",
              "    <tr>\n",
              "      <th>14636</th>\n",
              "      <td>americanair leaving minutes late flight warnin...</td>\n",
              "      <td>negative</td>\n",
              "      <td>1</td>\n",
              "      <td>0</td>\n",
              "      <td>0</td>\n",
              "    </tr>\n",
              "    <tr>\n",
              "      <th>14637</th>\n",
              "      <td>americanair please bring american airlines bla...</td>\n",
              "      <td>neutral</td>\n",
              "      <td>0</td>\n",
              "      <td>1</td>\n",
              "      <td>0</td>\n",
              "    </tr>\n",
              "    <tr>\n",
              "      <th>14638</th>\n",
              "      <td>americanair money change flight answer phones ...</td>\n",
              "      <td>negative</td>\n",
              "      <td>1</td>\n",
              "      <td>0</td>\n",
              "      <td>0</td>\n",
              "    </tr>\n",
              "    <tr>\n",
              "      <th>14639</th>\n",
              "      <td>americanair ppl need know many seats next flig...</td>\n",
              "      <td>neutral</td>\n",
              "      <td>0</td>\n",
              "      <td>1</td>\n",
              "      <td>0</td>\n",
              "    </tr>\n",
              "  </tbody>\n",
              "</table>\n",
              "<p>14640 rows × 5 columns</p>\n",
              "</div>"
            ],
            "text/plain": [
              "                                              clean_text  ... positive\n",
              "0                            virginamerica dhepburn said  ...        0\n",
              "1      virginamerica plus added commercials experienc...  ...        1\n",
              "2      virginamerica today must mean need take anothe...  ...        0\n",
              "3      virginamerica really aggressive blast obnoxiou...  ...        0\n",
              "4                     virginamerica really big bad thing  ...        0\n",
              "...                                                  ...  ...      ...\n",
              "14635     americanair thank got different flight chicago  ...        1\n",
              "14636  americanair leaving minutes late flight warnin...  ...        0\n",
              "14637  americanair please bring american airlines bla...  ...        0\n",
              "14638  americanair money change flight answer phones ...  ...        0\n",
              "14639  americanair ppl need know many seats next flig...  ...        0\n",
              "\n",
              "[14640 rows x 5 columns]"
            ]
          },
          "metadata": {
            "tags": []
          },
          "execution_count": 52
        }
      ]
    },
    {
      "cell_type": "code",
      "metadata": {
        "colab": {
          "base_uri": "https://localhost:8080/",
          "height": 402
        },
        "id": "cZ5ucHkFbh_r",
        "outputId": "7272a4ce-54fd-4b30-f32b-97d8ff599ec5"
      },
      "source": [
        "encoded_df"
      ],
      "execution_count": null,
      "outputs": [
        {
          "output_type": "execute_result",
          "data": {
            "text/html": [
              "<div>\n",
              "<style scoped>\n",
              "    .dataframe tbody tr th:only-of-type {\n",
              "        vertical-align: middle;\n",
              "    }\n",
              "\n",
              "    .dataframe tbody tr th {\n",
              "        vertical-align: top;\n",
              "    }\n",
              "\n",
              "    .dataframe thead th {\n",
              "        text-align: right;\n",
              "    }\n",
              "</style>\n",
              "<table border=\"1\" class=\"dataframe\">\n",
              "  <thead>\n",
              "    <tr style=\"text-align: right;\">\n",
              "      <th></th>\n",
              "      <th>clean_text</th>\n",
              "      <th>airline_sentiment</th>\n",
              "      <th>negative</th>\n",
              "      <th>neutral</th>\n",
              "      <th>positive</th>\n",
              "    </tr>\n",
              "  </thead>\n",
              "  <tbody>\n",
              "    <tr>\n",
              "      <th>0</th>\n",
              "      <td>virginamerica dhepburn said</td>\n",
              "      <td>neutral</td>\n",
              "      <td>0</td>\n",
              "      <td>1</td>\n",
              "      <td>0</td>\n",
              "    </tr>\n",
              "    <tr>\n",
              "      <th>1</th>\n",
              "      <td>virginamerica plus added commercials experienc...</td>\n",
              "      <td>positive</td>\n",
              "      <td>0</td>\n",
              "      <td>0</td>\n",
              "      <td>1</td>\n",
              "    </tr>\n",
              "    <tr>\n",
              "      <th>2</th>\n",
              "      <td>virginamerica today must mean need take anothe...</td>\n",
              "      <td>neutral</td>\n",
              "      <td>0</td>\n",
              "      <td>1</td>\n",
              "      <td>0</td>\n",
              "    </tr>\n",
              "    <tr>\n",
              "      <th>3</th>\n",
              "      <td>virginamerica really aggressive blast obnoxiou...</td>\n",
              "      <td>negative</td>\n",
              "      <td>1</td>\n",
              "      <td>0</td>\n",
              "      <td>0</td>\n",
              "    </tr>\n",
              "    <tr>\n",
              "      <th>4</th>\n",
              "      <td>virginamerica really big bad thing</td>\n",
              "      <td>negative</td>\n",
              "      <td>1</td>\n",
              "      <td>0</td>\n",
              "      <td>0</td>\n",
              "    </tr>\n",
              "    <tr>\n",
              "      <th>...</th>\n",
              "      <td>...</td>\n",
              "      <td>...</td>\n",
              "      <td>...</td>\n",
              "      <td>...</td>\n",
              "      <td>...</td>\n",
              "    </tr>\n",
              "    <tr>\n",
              "      <th>14635</th>\n",
              "      <td>americanair thank got different flight chicago</td>\n",
              "      <td>positive</td>\n",
              "      <td>0</td>\n",
              "      <td>0</td>\n",
              "      <td>1</td>\n",
              "    </tr>\n",
              "    <tr>\n",
              "      <th>14636</th>\n",
              "      <td>americanair leaving minutes late flight warnin...</td>\n",
              "      <td>negative</td>\n",
              "      <td>1</td>\n",
              "      <td>0</td>\n",
              "      <td>0</td>\n",
              "    </tr>\n",
              "    <tr>\n",
              "      <th>14637</th>\n",
              "      <td>americanair please bring american airlines bla...</td>\n",
              "      <td>neutral</td>\n",
              "      <td>0</td>\n",
              "      <td>1</td>\n",
              "      <td>0</td>\n",
              "    </tr>\n",
              "    <tr>\n",
              "      <th>14638</th>\n",
              "      <td>americanair money change flight answer phones ...</td>\n",
              "      <td>negative</td>\n",
              "      <td>1</td>\n",
              "      <td>0</td>\n",
              "      <td>0</td>\n",
              "    </tr>\n",
              "    <tr>\n",
              "      <th>14639</th>\n",
              "      <td>americanair ppl need know many seats next flig...</td>\n",
              "      <td>neutral</td>\n",
              "      <td>0</td>\n",
              "      <td>1</td>\n",
              "      <td>0</td>\n",
              "    </tr>\n",
              "  </tbody>\n",
              "</table>\n",
              "<p>14640 rows × 5 columns</p>\n",
              "</div>"
            ],
            "text/plain": [
              "                                              clean_text  ... positive\n",
              "0                            virginamerica dhepburn said  ...        0\n",
              "1      virginamerica plus added commercials experienc...  ...        1\n",
              "2      virginamerica today must mean need take anothe...  ...        0\n",
              "3      virginamerica really aggressive blast obnoxiou...  ...        0\n",
              "4                     virginamerica really big bad thing  ...        0\n",
              "...                                                  ...  ...      ...\n",
              "14635     americanair thank got different flight chicago  ...        1\n",
              "14636  americanair leaving minutes late flight warnin...  ...        0\n",
              "14637  americanair please bring american airlines bla...  ...        0\n",
              "14638  americanair money change flight answer phones ...  ...        0\n",
              "14639  americanair ppl need know many seats next flig...  ...        0\n",
              "\n",
              "[14640 rows x 5 columns]"
            ]
          },
          "metadata": {
            "tags": []
          },
          "execution_count": 53
        }
      ]
    },
    {
      "cell_type": "code",
      "metadata": {
        "id": "eEFwDokicgPx"
      },
      "source": [
        "encoded_df.drop(['airline_sentiment'],inplace=True,axis=1)"
      ],
      "execution_count": null,
      "outputs": []
    },
    {
      "cell_type": "code",
      "metadata": {
        "id": "wL5kDK0_crj_"
      },
      "source": [
        "x = encoded_df['clean_text']\n",
        "y= encoded_df.iloc[:,1:]"
      ],
      "execution_count": null,
      "outputs": []
    },
    {
      "cell_type": "code",
      "metadata": {
        "colab": {
          "base_uri": "https://localhost:8080/",
          "height": 195
        },
        "id": "6m50kJ-pdCJA",
        "outputId": "e009c105-ab40-4a78-bf4d-d8d7cf72bc2d"
      },
      "source": [
        "y.head()"
      ],
      "execution_count": null,
      "outputs": [
        {
          "output_type": "execute_result",
          "data": {
            "text/html": [
              "<div>\n",
              "<style scoped>\n",
              "    .dataframe tbody tr th:only-of-type {\n",
              "        vertical-align: middle;\n",
              "    }\n",
              "\n",
              "    .dataframe tbody tr th {\n",
              "        vertical-align: top;\n",
              "    }\n",
              "\n",
              "    .dataframe thead th {\n",
              "        text-align: right;\n",
              "    }\n",
              "</style>\n",
              "<table border=\"1\" class=\"dataframe\">\n",
              "  <thead>\n",
              "    <tr style=\"text-align: right;\">\n",
              "      <th></th>\n",
              "      <th>negative</th>\n",
              "      <th>neutral</th>\n",
              "      <th>positive</th>\n",
              "    </tr>\n",
              "  </thead>\n",
              "  <tbody>\n",
              "    <tr>\n",
              "      <th>0</th>\n",
              "      <td>0</td>\n",
              "      <td>1</td>\n",
              "      <td>0</td>\n",
              "    </tr>\n",
              "    <tr>\n",
              "      <th>1</th>\n",
              "      <td>0</td>\n",
              "      <td>0</td>\n",
              "      <td>1</td>\n",
              "    </tr>\n",
              "    <tr>\n",
              "      <th>2</th>\n",
              "      <td>0</td>\n",
              "      <td>1</td>\n",
              "      <td>0</td>\n",
              "    </tr>\n",
              "    <tr>\n",
              "      <th>3</th>\n",
              "      <td>1</td>\n",
              "      <td>0</td>\n",
              "      <td>0</td>\n",
              "    </tr>\n",
              "    <tr>\n",
              "      <th>4</th>\n",
              "      <td>1</td>\n",
              "      <td>0</td>\n",
              "      <td>0</td>\n",
              "    </tr>\n",
              "  </tbody>\n",
              "</table>\n",
              "</div>"
            ],
            "text/plain": [
              "   negative  neutral  positive\n",
              "0         0        1         0\n",
              "1         0        0         1\n",
              "2         0        1         0\n",
              "3         1        0         0\n",
              "4         1        0         0"
            ]
          },
          "metadata": {
            "tags": []
          },
          "execution_count": 56
        }
      ]
    },
    {
      "cell_type": "code",
      "metadata": {
        "id": "4E_wh-J9bjym"
      },
      "source": [
        "x_train,x_test,y_train,y_test = train_test_split(x,y,test_size=0.2,random_state=100)"
      ],
      "execution_count": null,
      "outputs": []
    },
    {
      "cell_type": "code",
      "metadata": {
        "id": "GEt5FBmXeHtY"
      },
      "source": [
        "## using TF-IDF Vectorizer"
      ],
      "execution_count": null,
      "outputs": []
    },
    {
      "cell_type": "code",
      "metadata": {
        "id": "M79D4aeKeVkl"
      },
      "source": [
        "tfidf = TfidfVectorizer()"
      ],
      "execution_count": null,
      "outputs": []
    },
    {
      "cell_type": "code",
      "metadata": {
        "id": "gstlhdRKeYFN"
      },
      "source": [
        "x_train_idf = tfidf.fit_transform(x_train)"
      ],
      "execution_count": null,
      "outputs": []
    },
    {
      "cell_type": "code",
      "metadata": {
        "colab": {
          "base_uri": "https://localhost:8080/"
        },
        "id": "ZkSOyrnFed4v",
        "outputId": "77a8fc4c-05d7-4ba9-9eec-a424b8b90a4d"
      },
      "source": [
        "tfidf.get_feature_names()"
      ],
      "execution_count": null,
      "outputs": [
        {
          "output_type": "execute_result",
          "data": {
            "text/plain": [
              "['aa',\n",
              " 'aaaand',\n",
              " 'aaadvantage',\n",
              " 'aacustomerservice',\n",
              " 'aadavantage',\n",
              " 'aadelay',\n",
              " 'aadv',\n",
              " 'aadvantage',\n",
              " 'aal',\n",
              " 'aaron',\n",
              " 'aarp',\n",
              " 'aateam',\n",
              " 'aavvoreph',\n",
              " 'ab',\n",
              " 'aback',\n",
              " 'abandon',\n",
              " 'abandonment',\n",
              " 'abassinet',\n",
              " 'abbreve',\n",
              " 'abc',\n",
              " 'abcletjetbluestreamfeed',\n",
              " 'abcnetwork',\n",
              " 'abcnews',\n",
              " 'abducted',\n",
              " 'abi',\n",
              " 'abigailedge',\n",
              " 'abilities',\n",
              " 'ability',\n",
              " 'able',\n",
              " 'aboard',\n",
              " 'aboout',\n",
              " 'abounds',\n",
              " 'abprg',\n",
              " 'abq',\n",
              " 'abroad',\n",
              " 'absolute',\n",
              " 'absolutely',\n",
              " 'absorb',\n",
              " 'absorber',\n",
              " 'absoulutely',\n",
              " 'absurd',\n",
              " 'absurdity',\n",
              " 'absurdly',\n",
              " 'abt',\n",
              " 'abtwf',\n",
              " 'abundance',\n",
              " 'abuse',\n",
              " 'abused',\n",
              " 'abxrq',\n",
              " 'abysmal',\n",
              " 'ac',\n",
              " 'acarl',\n",
              " 'acc',\n",
              " 'accept',\n",
              " 'acceptable',\n",
              " 'accepted',\n",
              " 'accepting',\n",
              " 'access',\n",
              " 'accessible',\n",
              " 'accessing',\n",
              " 'accident',\n",
              " 'accidentally',\n",
              " 'accidents',\n",
              " 'accomidating',\n",
              " 'accommodate',\n",
              " 'accommodated',\n",
              " 'accommodates',\n",
              " 'accommodating',\n",
              " 'accommodation',\n",
              " 'accommodations',\n",
              " 'accompaniments',\n",
              " 'accompany',\n",
              " 'accomplish',\n",
              " 'accomplished',\n",
              " 'according',\n",
              " 'accordingly',\n",
              " 'account',\n",
              " 'accountability',\n",
              " 'accountable',\n",
              " 'accounts',\n",
              " 'acct',\n",
              " 'accts',\n",
              " 'accumulation',\n",
              " 'accurate',\n",
              " 'accurately',\n",
              " 'accuratetraveltimes',\n",
              " 'accused',\n",
              " 'acebo',\n",
              " 'acfqcdq',\n",
              " 'achieve',\n",
              " 'achieves',\n",
              " 'ack',\n",
              " 'acknowledge',\n",
              " 'acknowledgement',\n",
              " 'acknowledgment',\n",
              " 'acnewsguy',\n",
              " 'acpt',\n",
              " 'acquire',\n",
              " 'acquired',\n",
              " 'acquisition',\n",
              " 'across',\n",
              " 'act',\n",
              " 'acted',\n",
              " 'actingoutmgmnt',\n",
              " 'action',\n",
              " 'actions',\n",
              " 'activate',\n",
              " 'active',\n",
              " 'actively',\n",
              " 'activities',\n",
              " 'activity',\n",
              " 'acts',\n",
              " 'actual',\n",
              " 'actually',\n",
              " 'acy',\n",
              " 'ad',\n",
              " 'ada',\n",
              " 'adam',\n",
              " 'adams',\n",
              " 'adapted',\n",
              " 'add',\n",
              " 'addair',\n",
              " 'added',\n",
              " 'adding',\n",
              " 'addition',\n",
              " 'additional',\n",
              " 'additionally',\n",
              " 'addr',\n",
              " 'address',\n",
              " 'addressed',\n",
              " 'addresses',\n",
              " 'addressing',\n",
              " 'adds',\n",
              " 'addtl',\n",
              " 'adjacent',\n",
              " 'adjusting',\n",
              " 'adjustment',\n",
              " 'adjustments',\n",
              " 'admiral',\n",
              " 'admirals',\n",
              " 'admiralsclub',\n",
              " 'admit',\n",
              " 'admitted',\n",
              " 'adolfo',\n",
              " 'adopted',\n",
              " 'adopting',\n",
              " 'adore',\n",
              " 'adress',\n",
              " 'ads',\n",
              " 'adult',\n",
              " 'advan',\n",
              " 'advance',\n",
              " 'advantage',\n",
              " 'adventure',\n",
              " 'advertise',\n",
              " 'advertised',\n",
              " 'advertising',\n",
              " 'advice',\n",
              " 'advis',\n",
              " 'advise',\n",
              " 'advised',\n",
              " 'advising',\n",
              " 'advisories',\n",
              " 'advisory',\n",
              " 'aegeanairlines',\n",
              " 'aerojobmarket',\n",
              " 'aeroport',\n",
              " 'aex',\n",
              " 'af',\n",
              " 'affairs',\n",
              " 'affect',\n",
              " 'affected',\n",
              " 'affecting',\n",
              " 'affects',\n",
              " 'affiliate',\n",
              " 'affiliated',\n",
              " 'affiliates',\n",
              " 'afford',\n",
              " 'affordable',\n",
              " 'afiliates',\n",
              " 'aflame',\n",
              " 'aforementioned',\n",
              " 'afraid',\n",
              " 'aft',\n",
              " 'afterall',\n",
              " 'afternoon',\n",
              " 'aftr',\n",
              " 'age',\n",
              " 'aged',\n",
              " 'agencies',\n",
              " 'agency',\n",
              " 'agent',\n",
              " 'agents',\n",
              " 'ages',\n",
              " 'agfd',\n",
              " 'aggravating',\n",
              " 'aggravation',\n",
              " 'aggressive',\n",
              " 'agian',\n",
              " 'agnt',\n",
              " 'ago',\n",
              " 'agoodlife',\n",
              " 'agpb',\n",
              " 'agr',\n",
              " 'agree',\n",
              " 'agt',\n",
              " 'agts',\n",
              " 'agum',\n",
              " 'ah',\n",
              " 'aha',\n",
              " 'ahah',\n",
              " 'ahead',\n",
              " 'ahem',\n",
              " 'ahhhh',\n",
              " 'ahhhhh',\n",
              " 'ahold',\n",
              " 'ahoy',\n",
              " 'ai',\n",
              " 'aiecraft',\n",
              " 'ailing',\n",
              " 'aim',\n",
              " 'aimed',\n",
              " 'air',\n",
              " 'airborne',\n",
              " 'airbus',\n",
              " 'airbusintheus',\n",
              " 'aircanada',\n",
              " 'aircraft',\n",
              " 'aircrafts',\n",
              " 'aircrft',\n",
              " 'aired',\n",
              " 'aires',\n",
              " 'airfare',\n",
              " 'airfares',\n",
              " 'airfarewatchdog',\n",
              " 'airline',\n",
              " 'airlinegave',\n",
              " 'airlinegeeks',\n",
              " 'airlineguys',\n",
              " 'airlinequality',\n",
              " 'airliner',\n",
              " 'airlines',\n",
              " 'airlinesecurity',\n",
              " 'airnzusa',\n",
              " 'airplane',\n",
              " 'airplanemodewason',\n",
              " 'airplanes',\n",
              " 'airport',\n",
              " 'airportcardio',\n",
              " 'airports',\n",
              " 'airside',\n",
              " 'airsouthwest',\n",
              " 'airspace',\n",
              " 'airstairs',\n",
              " 'airtahitinui',\n",
              " 'airtran',\n",
              " 'airway',\n",
              " 'airways',\n",
              " 'ais',\n",
              " 'aisle',\n",
              " 'aitzl',\n",
              " 'aiyc',\n",
              " 'ajm',\n",
              " 'ajz',\n",
              " 'ak',\n",
              " 'aka',\n",
              " 'akron',\n",
              " 'al',\n",
              " 'alabama',\n",
              " 'alamo',\n",
              " 'alarm',\n",
              " 'alas',\n",
              " 'alaska',\n",
              " 'alaskaair',\n",
              " 'alavera',\n",
              " 'alb',\n",
              " 'albany',\n",
              " 'albeit',\n",
              " 'albertbreer',\n",
              " 'albums',\n",
              " 'albuquer',\n",
              " 'albuquerque',\n",
              " 'alcohol',\n",
              " 'alert',\n",
              " 'alerted',\n",
              " 'alerts',\n",
              " 'alex',\n",
              " 'alfamilyoffour',\n",
              " 'ali',\n",
              " 'alicia',\n",
              " 'alison',\n",
              " 'alist',\n",
              " 'alistpreferred',\n",
              " 'alittle',\n",
              " 'alittlebetter',\n",
              " 'alive',\n",
              " 'allegiantair',\n",
              " 'allende',\n",
              " 'allergic',\n",
              " 'allergies',\n",
              " 'allergy',\n",
              " 'alleviate',\n",
              " 'allgood',\n",
              " 'alliance',\n",
              " 'allll',\n",
              " 'allow',\n",
              " 'allowable',\n",
              " 'allowance',\n",
              " 'allowances',\n",
              " 'allowed',\n",
              " 'allowing',\n",
              " 'allows',\n",
              " 'allready',\n",
              " 'allrepresentativesbusy',\n",
              " 'allyoucanjetpass',\n",
              " 'almost',\n",
              " 'alone',\n",
              " 'along',\n",
              " 'alot',\n",
              " 'already',\n",
              " 'alreadyrebookedonce',\n",
              " 'alright',\n",
              " 'als',\n",
              " 'also',\n",
              " 'alsonodrinkcartcomingaround',\n",
              " 'alstdi',\n",
              " 'alt',\n",
              " 'alternate',\n",
              " 'alternative',\n",
              " 'alternatives',\n",
              " 'although',\n",
              " 'altitude',\n",
              " 'altonbrownlive',\n",
              " 'always',\n",
              " 'alwaysdelayedonunited',\n",
              " 'alwayshappensthere',\n",
              " 'alwayslate',\n",
              " 'aly',\n",
              " 'alynewton',\n",
              " 'amateur',\n",
              " 'amateurish',\n",
              " 'amateurs',\n",
              " 'amaze',\n",
              " 'amazed',\n",
              " 'amazing',\n",
              " 'amazingflightcrew',\n",
              " 'amazingly',\n",
              " 'amazings',\n",
              " 'amazon',\n",
              " 'ambassador',\n",
              " 'ambivalence',\n",
              " 'amend',\n",
              " 'amenities',\n",
              " 'amenity',\n",
              " 'america',\n",
              " 'american',\n",
              " 'americanair',\n",
              " 'americanairbr',\n",
              " 'americanairlines',\n",
              " 'americanairlinesfail',\n",
              " 'americanairlnes',\n",
              " 'americanairsucks',\n",
              " 'americandairlinessucks',\n",
              " 'americanforlife',\n",
              " 'americanisbetter',\n",
              " 'americanone',\n",
              " 'americans',\n",
              " 'americanview',\n",
              " 'amex',\n",
              " 'amexserve',\n",
              " 'amid',\n",
              " 'amiga',\n",
              " 'amin',\n",
              " 'amirite',\n",
              " 'amm',\n",
              " 'amnt',\n",
              " 'among',\n",
              " 'amongst',\n",
              " 'amount',\n",
              " 'amp',\n",
              " 'ams',\n",
              " 'amsterdam',\n",
              " 'amt',\n",
              " 'amtrak',\n",
              " 'amy',\n",
              " 'amybruni',\n",
              " 'amypoehler',\n",
              " 'ana',\n",
              " 'analysts',\n",
              " 'analytics',\n",
              " 'anamarketers',\n",
              " 'anaphylaxis',\n",
              " 'anarchy',\n",
              " 'anchorage',\n",
              " 'anderson',\n",
              " 'andrew',\n",
              " 'andrewbiga',\n",
              " 'andrewfallis',\n",
              " 'andrews',\n",
              " 'android',\n",
              " 'andthewinneris',\n",
              " 'aneqxzr',\n",
              " 'angel',\n",
              " 'angeles',\n",
              " 'angering',\n",
              " 'angry',\n",
              " 'angryairtravel',\n",
              " 'angryandsober',\n",
              " 'angrybird',\n",
              " 'angrycustomer',\n",
              " 'angrytraveler',\n",
              " 'anhour',\n",
              " 'animal',\n",
              " 'animals',\n",
              " 'anku',\n",
              " 'ann',\n",
              " 'anna',\n",
              " 'annamarie',\n",
              " 'annettenaif',\n",
              " 'anni',\n",
              " 'anniversary',\n",
              " 'annnndddd',\n",
              " 'annnnddddd',\n",
              " 'announce',\n",
              " 'announced',\n",
              " 'announcement',\n",
              " 'announcements',\n",
              " 'announcer',\n",
              " 'announces',\n",
              " 'announcing',\n",
              " 'annoyed',\n",
              " 'annoying',\n",
              " 'annricord',\n",
              " 'annual',\n",
              " 'another',\n",
              " 'anotherdisappointment',\n",
              " 'ans',\n",
              " 'answer',\n",
              " 'answered',\n",
              " 'answering',\n",
              " 'answers',\n",
              " 'answerthephone',\n",
              " 'answerthis',\n",
              " 'ant',\n",
              " 'anthony',\n",
              " 'anti',\n",
              " 'anticipate',\n",
              " 'anticipating',\n",
              " 'anticipation',\n",
              " 'antigua',\n",
              " 'antitrust',\n",
              " 'antonio',\n",
              " 'anxiety',\n",
              " 'anxious',\n",
              " 'anybody',\n",
              " 'anyhelp',\n",
              " 'anymore',\n",
              " 'anyone',\n",
              " 'anyonethere',\n",
              " 'anythin',\n",
              " 'anything',\n",
              " 'anytime',\n",
              " 'anyway',\n",
              " 'anyways',\n",
              " 'anywhere',\n",
              " 'aoeaeszdlx',\n",
              " 'aormfkac',\n",
              " 'aou',\n",
              " 'ap',\n",
              " 'apart',\n",
              " 'apathetic',\n",
              " 'apathy',\n",
              " 'apeared',\n",
              " 'apiau',\n",
              " 'apnea',\n",
              " 'apologies',\n",
              " 'apologise',\n",
              " 'apologize',\n",
              " 'apologizes',\n",
              " 'apologizing',\n",
              " 'apology',\n",
              " 'apostrophe',\n",
              " 'apostrophefail',\n",
              " 'app',\n",
              " 'appalled',\n",
              " 'appalling',\n",
              " 'apparent',\n",
              " 'apparently',\n",
              " 'appealing',\n",
              " 'appear',\n",
              " 'appeared',\n",
              " 'appears',\n",
              " 'appease',\n",
              " 'applaud',\n",
              " 'applauded',\n",
              " 'applause',\n",
              " 'apple',\n",
              " 'applepay',\n",
              " 'appleton',\n",
              " 'applicable',\n",
              " 'application',\n",
              " 'applications',\n",
              " 'applied',\n",
              " 'applies',\n",
              " 'apply',\n",
              " 'applying',\n",
              " 'appointed',\n",
              " 'appointment',\n",
              " 'appointments',\n",
              " 'appreciate',\n",
              " 'appreciated',\n",
              " 'appreciates',\n",
              " 'appreciation',\n",
              " 'approach',\n",
              " 'approaching',\n",
              " 'appropriate',\n",
              " 'appropriation',\n",
              " 'approproately',\n",
              " 'approval',\n",
              " 'approvals',\n",
              " 'approve',\n",
              " 'approved',\n",
              " 'approx',\n",
              " 'approximate',\n",
              " 'approximately',\n",
              " 'apps',\n",
              " 'appt',\n",
              " 'apr',\n",
              " 'april',\n",
              " 'apron',\n",
              " 'aprzspxige',\n",
              " 'apt',\n",
              " 'aptzpurop',\n",
              " 'apx',\n",
              " 'apy',\n",
              " 'aqa',\n",
              " 'aqjn',\n",
              " 'aquadilla',\n",
              " 'aqzwecokk',\n",
              " 'ar',\n",
              " 'arab',\n",
              " 'arbitrary',\n",
              " 'arc',\n",
              " 'archaic',\n",
              " 'area',\n",
              " 'areas',\n",
              " 'arent',\n",
              " 'ares',\n",
              " 'argentina',\n",
              " 'argh',\n",
              " 'argue',\n",
              " 'argued',\n",
              " 'argueing',\n",
              " 'arguing',\n",
              " 'argument',\n",
              " 'aricyq',\n",
              " 'arizona',\n",
              " 'arkansas',\n",
              " 'arminrosen',\n",
              " 'armrest',\n",
              " 'arms',\n",
              " 'army',\n",
              " 'around',\n",
              " 'arpt',\n",
              " 'arrange',\n",
              " 'arranged',\n",
              " 'arrangement',\n",
              " 'arrangements',\n",
              " 'arrival',\n",
              " 'arrivals',\n",
              " 'arrive',\n",
              " 'arrived',\n",
              " 'arrives',\n",
              " 'arriving',\n",
              " 'arrogant',\n",
              " 'art',\n",
              " 'article',\n",
              " 'artisanal',\n",
              " 'aruba',\n",
              " 'aruna',\n",
              " 'arvls',\n",
              " 'asap',\n",
              " 'asarco',\n",
              " 'ase',\n",
              " 'asgmnt',\n",
              " 'ashamed',\n",
              " 'ashes',\n",
              " 'ashevilleair',\n",
              " 'ashley',\n",
              " 'ashleykatherton',\n",
              " 'asia',\n",
              " 'aside',\n",
              " 'ask',\n",
              " 'askamex',\n",
              " 'asked',\n",
              " 'asking',\n",
              " 'askpaypal',\n",
              " 'asks',\n",
              " 'asleep',\n",
              " 'aspen',\n",
              " 'aspenbaggagefail',\n",
              " 'ass',\n",
              " 'assaulted',\n",
              " 'assed',\n",
              " 'asses',\n",
              " 'asset',\n",
              " 'assets',\n",
              " 'asshole',\n",
              " 'assign',\n",
              " 'assigned',\n",
              " 'assignment',\n",
              " 'assignments',\n",
              " 'assist',\n",
              " 'assistance',\n",
              " 'assistant',\n",
              " 'assisted',\n",
              " 'assisting',\n",
              " 'associated',\n",
              " 'assult',\n",
              " 'assume',\n",
              " 'assumed',\n",
              " 'assuming',\n",
              " 'assurance',\n",
              " 'assurances',\n",
              " 'assure',\n",
              " 'assured',\n",
              " 'assuring',\n",
              " 'astounded',\n",
              " 'astounding',\n",
              " 'astounds',\n",
              " 'asus',\n",
              " 'asuwx',\n",
              " 'asw',\n",
              " 'atc',\n",
              " 'atct',\n",
              " 'atd',\n",
              " 'ateafnc',\n",
              " 'ath',\n",
              " 'athau',\n",
              " 'athlete',\n",
              " 'athletes',\n",
              " 'atl',\n",
              " 'atlanta',\n",
              " 'atlantic',\n",
              " 'atleast',\n",
              " 'atrocious',\n",
              " 'att',\n",
              " 'attach',\n",
              " 'attached',\n",
              " 'attackingbabymomma',\n",
              " 'attained',\n",
              " 'attdt',\n",
              " 'attempt',\n",
              " 'attempted',\n",
              " 'attempting',\n",
              " 'attempts',\n",
              " 'attend',\n",
              " 'attendant',\n",
              " 'attendants',\n",
              " 'attended',\n",
              " 'attendent',\n",
              " 'attendents',\n",
              " 'attending',\n",
              " 'attention',\n",
              " 'attentiveness',\n",
              " 'attire',\n",
              " 'attitude',\n",
              " 'attitudeissues',\n",
              " 'attitudes',\n",
              " 'attitudy',\n",
              " 'attndt',\n",
              " 'atue',\n",
              " 'atwonline',\n",
              " 'atwyifh',\n",
              " 'atx',\n",
              " 'au',\n",
              " 'auciello',\n",
              " 'auckland',\n",
              " 'aucsykfuhd',\n",
              " 'auction',\n",
              " 'audio',\n",
              " 'audition',\n",
              " 'auditorium',\n",
              " 'auf',\n",
              " 'aug',\n",
              " 'augjscmolu',\n",
              " 'august',\n",
              " 'auh',\n",
              " 'aumilo',\n",
              " 'aunties',\n",
              " 'aunts',\n",
              " 'aur',\n",
              " 'aurorabiz',\n",
              " 'aus',\n",
              " 'aussie',\n",
              " 'austin',\n",
              " 'austinairport',\n",
              " 'australia',\n",
              " 'austrian',\n",
              " 'authoritative',\n",
              " 'authority',\n",
              " 'authors',\n",
              " 'auto',\n",
              " 'automated',\n",
              " 'automatic',\n",
              " 'automatically',\n",
              " 'automobiles',\n",
              " 'autoresponse',\n",
              " 'av',\n",
              " 'avail',\n",
              " 'availab',\n",
              " 'availability',\n",
              " 'available',\n",
              " 'avalible',\n",
              " 'avalonhollywood',\n",
              " 'avatars',\n",
              " 'avbdstjujs',\n",
              " 'avenue',\n",
              " 'average',\n",
              " 'averaging',\n",
              " 'averted',\n",
              " 'avgeek',\n",
              " 'aviation',\n",
              " 'avios',\n",
              " 'avis',\n",
              " 'aviv',\n",
              " 'avoid',\n",
              " 'avoidable',\n",
              " 'avoided',\n",
              " 'avoiding',\n",
              " 'avon',\n",
              " 'avp',\n",
              " 'avrtowtyzk',\n",
              " 'avyqdmpi',\n",
              " 'aw',\n",
              " 'awaiting',\n",
              " 'awake',\n",
              " 'award',\n",
              " 'awards',\n",
              " 'aware',\n",
              " 'away',\n",
              " 'awdbw',\n",
              " 'awe',\n",
              " 'aweful',\n",
              " 'awesome',\n",
              " 'awesomeness',\n",
              " 'awful',\n",
              " 'awfulness',\n",
              " 'awgjkjiiac',\n",
              " 'awheelchair',\n",
              " 'awhile',\n",
              " 'awkward',\n",
              " 'aww',\n",
              " 'awww',\n",
              " 'awwweesssooomee',\n",
              " 'ax',\n",
              " 'axlqzwvh',\n",
              " 'axpn',\n",
              " 'axryeiwzh',\n",
              " 'ay',\n",
              " 'aye',\n",
              " 'aygaoeb',\n",
              " 'aypyaduy',\n",
              " 'ayyy',\n",
              " 'az',\n",
              " 'azltjhf',\n",
              " 'aztdaer',\n",
              " 'ba',\n",
              " 'babies',\n",
              " 'baby',\n",
              " 'babyfood',\n",
              " 'bach',\n",
              " 'bachelorpartymishap',\n",
              " 'back',\n",
              " 'backed',\n",
              " 'backing',\n",
              " 'backlog',\n",
              " 'backpack',\n",
              " 'backpacks',\n",
              " 'backroads',\n",
              " 'backs',\n",
              " 'backtodelta',\n",
              " 'backtowinter',\n",
              " 'backup',\n",
              " 'backwards',\n",
              " 'backyard',\n",
              " 'bad',\n",
              " 'badairline',\n",
              " 'badbadbad',\n",
              " 'badbusiness',\n",
              " 'badbussiness',\n",
              " 'badcustomerexperience',\n",
              " 'badcustomerservice',\n",
              " 'badcustomersrvice',\n",
              " 'badge',\n",
              " 'badges',\n",
              " 'badly',\n",
              " 'badmgmt',\n",
              " 'badpolicy',\n",
              " 'badservice',\n",
              " 'badwebsite',\n",
              " 'bae',\n",
              " 'baejet',\n",
              " 'bafore',\n",
              " 'baftz',\n",
              " 'bag',\n",
              " 'bagage',\n",
              " 'baggage',\n",
              " 'baggagefail',\n",
              " 'baggageissues',\n",
              " 'baggagelost',\n",
              " 'baggages',\n",
              " 'bags',\n",
              " 'bagsflyfree',\n",
              " 'bagsflyfreebutnotwithme',\n",
              " 'bagtag',\n",
              " 'bahamas',\n",
              " 'bailed',\n",
              " 'bailey',\n",
              " 'baimes',\n",
              " 'bait',\n",
              " 'baitandswitch',\n",
              " 'baked',\n",
              " 'balance',\n",
              " 'balancing',\n",
              " 'baldordash',\n",
              " 'baldwin',\n",
              " 'ball',\n",
              " 'ballbag',\n",
              " 'ballin',\n",
              " 'balloons',\n",
              " 'balls',\n",
              " 'balt',\n",
              " 'baltimore',\n",
              " 'banana',\n",
              " 'band',\n",
              " 'bandie',\n",
              " 'bands',\n",
              " 'bandwidth',\n",
              " 'bangkok',\n",
              " 'bank',\n",
              " 'bankrupt',\n",
              " 'bankruptcies',\n",
              " 'banned',\n",
              " 'banning',\n",
              " 'bape',\n",
              " 'bar',\n",
              " 'barbados',\n",
              " 'barbara',\n",
              " 'barclay',\n",
              " 'barclaycardus',\n",
              " 'barclays',\n",
              " 'barcodes',\n",
              " 'barely',\n",
              " 'barking',\n",
              " 'barklays',\n",
              " 'barnum',\n",
              " 'barrel',\n",
              " 'barrettkarabis',\n",
              " 'barrier',\n",
              " 'bars',\n",
              " 'barzegar',\n",
              " 'base',\n",
              " 'based',\n",
              " 'basic',\n",
              " 'basically',\n",
              " 'basics',\n",
              " 'basket',\n",
              " 'basketball',\n",
              " 'bass',\n",
              " 'bastards',\n",
              " 'bathroom',\n",
              " 'bathrooms',\n",
              " 'batman',\n",
              " 'batteries',\n",
              " 'battery',\n",
              " 'battierccipuppy',\n",
              " 'batting',\n",
              " 'battle',\n",
              " 'battles',\n",
              " 'bay',\n",
              " 'bayepzkmiz',\n",
              " 'bbb',\n",
              " 'bbhtlzgh',\n",
              " 'bbm',\n",
              " 'bbzijwfdl',\n",
              " 'bc',\n",
              " 'bcn',\n",
              " 'bcs',\n",
              " 'bcuz',\n",
              " 'bcwckwtnle',\n",
              " 'bcz',\n",
              " 'bd',\n",
              " 'bday',\n",
              " 'bdindallas',\n",
              " 'bdl',\n",
              " 'bdng',\n",
              " 'bdsm',\n",
              " 'bdtldx',\n",
              " 'bduauzfhw',\n",
              " 'beach',\n",
              " 'beaches',\n",
              " 'beamske',\n",
              " 'beanie',\n",
              " 'beans',\n",
              " 'beantownmatty',\n",
              " 'bearable',\n",
              " 'beat',\n",
              " 'beating',\n",
              " 'beatriz',\n",
              " 'beats',\n",
              " 'beatsmusic',\n",
              " 'beatstheothers',\n",
              " 'beatz',\n",
              " 'beautiful',\n",
              " 'beautifull',\n",
              " 'beautifully',\n",
              " 'beauty',\n",
              " 'bebetter',\n",
              " 'bec',\n",
              " 'became',\n",
              " 'becky',\n",
              " 'become',\n",
              " 'becomes',\n",
              " 'becoming',\n",
              " 'becuz',\n",
              " 'bed',\n",
              " 'beefjerky',\n",
              " 'beer',\n",
              " 'beers',\n",
              " 'befor',\n",
              " 'beg',\n",
              " 'began',\n",
              " 'begging',\n",
              " 'begin',\n",
              " 'beginning',\n",
              " 'begins',\n",
              " 'begrudgingly',\n",
              " 'behalf',\n",
              " 'behave',\n",
              " 'behavior',\n",
              " 'behind',\n",
              " 'bein',\n",
              " 'beingsuckontarmacsucks',\n",
              " 'belabor',\n",
              " 'belfast',\n",
              " 'belfastairport',\n",
              " 'believable',\n",
              " 'believe',\n",
              " 'belize',\n",
              " 'bellagio',\n",
              " 'belong',\n",
              " 'belongings',\n",
              " 'beloved',\n",
              " 'belt',\n",
              " 'benadryl',\n",
              " 'bench',\n",
              " 'beneficial',\n",
              " 'benefit',\n",
              " 'benefits',\n",
              " 'benjaminokeefe',\n",
              " 'beought',\n",
              " 'beqotlnugc',\n",
              " 'bereavement',\n",
              " 'bergstrom',\n",
              " 'berlin',\n",
              " 'bernhardtjh',\n",
              " 'bershawnjackson',\n",
              " 'besides',\n",
              " 'best',\n",
              " 'bestairline',\n",
              " 'bestairlineever',\n",
              " 'bestcrew',\n",
              " 'bestdressed',\n",
              " 'bestemployees',\n",
              " 'bestflightever',\n",
              " 'bestfriend',\n",
              " 'bestfriends',\n",
              " 'bestinclasssocial',\n",
              " 'bestplanesever',\n",
              " 'besty',\n",
              " 'bet',\n",
              " 'beta',\n",
              " 'bethonors',\n",
              " 'betsy',\n",
              " 'better',\n",
              " 'betting',\n",
              " 'betty',\n",
              " 'beverage',\n",
              " 'beverages',\n",
              " 'bevies',\n",
              " 'beware',\n",
              " 'beyond',\n",
              " 'bf',\n",
              " 'bff',\n",
              " 'bffs',\n",
              " 'bgbtq',\n",
              " 'bgm',\n",
              " 'bgr',\n",
              " 'bgtjfmneot',\n",
              " ...]"
            ]
          },
          "metadata": {
            "tags": []
          },
          "execution_count": 61
        }
      ]
    },
    {
      "cell_type": "code",
      "metadata": {
        "colab": {
          "base_uri": "https://localhost:8080/"
        },
        "id": "5RAjQFPcen4z",
        "outputId": "32271c5a-f384-4260-ae5a-8ea2a7fb282e"
      },
      "source": [
        "len(tfidf.get_feature_names())"
      ],
      "execution_count": null,
      "outputs": [
        {
          "output_type": "execute_result",
          "data": {
            "text/plain": [
              "11888"
            ]
          },
          "metadata": {
            "tags": []
          },
          "execution_count": 62
        }
      ]
    },
    {
      "cell_type": "code",
      "metadata": {
        "id": "5uoZH_KUexmW"
      },
      "source": [
        "x_test_tfidf = tfidf.transform(x_test)"
      ],
      "execution_count": null,
      "outputs": []
    },
    {
      "cell_type": "code",
      "metadata": {
        "colab": {
          "base_uri": "https://localhost:8080/"
        },
        "id": "S89RIyCxfF3W",
        "outputId": "4fa46ced-a812-4b47-947c-eac880a0400d"
      },
      "source": [
        "x_test_tfidf"
      ],
      "execution_count": null,
      "outputs": [
        {
          "output_type": "execute_result",
          "data": {
            "text/plain": [
              "<2928x11888 sparse matrix of type '<class 'numpy.float64'>'\n",
              "\twith 26716 stored elements in Compressed Sparse Row format>"
            ]
          },
          "metadata": {
            "tags": []
          },
          "execution_count": 64
        }
      ]
    },
    {
      "cell_type": "code",
      "metadata": {
        "id": "l2J6b-m6fMvF"
      },
      "source": [
        "## converting sparse into dense matrix"
      ],
      "execution_count": null,
      "outputs": []
    },
    {
      "cell_type": "code",
      "metadata": {
        "id": "QwWKjPkxfbKG"
      },
      "source": [
        "x_train = scipy.sparse.csr_matrix.todense(x_train_idf)"
      ],
      "execution_count": null,
      "outputs": []
    },
    {
      "cell_type": "code",
      "metadata": {
        "colab": {
          "base_uri": "https://localhost:8080/"
        },
        "id": "mj4dWRsBfp6k",
        "outputId": "5d1a7ed3-a7a1-47b6-be4f-d8b56f47cc01"
      },
      "source": [
        "x_train"
      ],
      "execution_count": null,
      "outputs": [
        {
          "output_type": "execute_result",
          "data": {
            "text/plain": [
              "matrix([[0., 0., 0., ..., 0., 0., 0.],\n",
              "        [0., 0., 0., ..., 0., 0., 0.],\n",
              "        [0., 0., 0., ..., 0., 0., 0.],\n",
              "        ...,\n",
              "        [0., 0., 0., ..., 0., 0., 0.],\n",
              "        [0., 0., 0., ..., 0., 0., 0.],\n",
              "        [0., 0., 0., ..., 0., 0., 0.]])"
            ]
          },
          "metadata": {
            "tags": []
          },
          "execution_count": 67
        }
      ]
    },
    {
      "cell_type": "code",
      "metadata": {
        "id": "dXUcypTHfrsR"
      },
      "source": [
        "x_test = scipy.sparse.csr_matrix.todense(x_test_tfidf)"
      ],
      "execution_count": null,
      "outputs": []
    },
    {
      "cell_type": "code",
      "metadata": {
        "colab": {
          "base_uri": "https://localhost:8080/"
        },
        "id": "0-Meeygsf3ud",
        "outputId": "5d249abd-9d45-48b6-af85-eca0e1c7d1ed"
      },
      "source": [
        "len(x_train)"
      ],
      "execution_count": null,
      "outputs": [
        {
          "output_type": "execute_result",
          "data": {
            "text/plain": [
              "11712"
            ]
          },
          "metadata": {
            "tags": []
          },
          "execution_count": 69
        }
      ]
    },
    {
      "cell_type": "code",
      "metadata": {
        "colab": {
          "base_uri": "https://localhost:8080/"
        },
        "id": "j7PFBZBVgr99",
        "outputId": "a25bdbf1-1d5f-4a99-fc2f-bf6b46455aa0"
      },
      "source": [
        "x_train.shape ## 11888 = columns --> np.of neurons at first layer, 11712 = inputs (vocab)"
      ],
      "execution_count": null,
      "outputs": [
        {
          "output_type": "execute_result",
          "data": {
            "text/plain": [
              "(11712, 11888)"
            ]
          },
          "metadata": {
            "tags": []
          },
          "execution_count": 70
        }
      ]
    },
    {
      "cell_type": "code",
      "metadata": {
        "id": "4RcdFT0Cgve6"
      },
      "source": [
        "## Model Building"
      ],
      "execution_count": null,
      "outputs": []
    },
    {
      "cell_type": "code",
      "metadata": {
        "id": "NCJhQrlEg0lg"
      },
      "source": [
        "neurons_first_layer = x_train.shape[0]"
      ],
      "execution_count": null,
      "outputs": []
    },
    {
      "cell_type": "code",
      "metadata": {
        "colab": {
          "base_uri": "https://localhost:8080/"
        },
        "id": "1JmZZ06yhdcO",
        "outputId": "e4287e81-34cc-4bc3-8586-6436ed676129"
      },
      "source": [
        "neurons_first_layer"
      ],
      "execution_count": null,
      "outputs": [
        {
          "output_type": "execute_result",
          "data": {
            "text/plain": [
              "11712"
            ]
          },
          "metadata": {
            "tags": []
          },
          "execution_count": 73
        }
      ]
    },
    {
      "cell_type": "code",
      "metadata": {
        "id": "Snc_g4FAhfIU"
      },
      "source": [
        "input = x_train.shape[1]"
      ],
      "execution_count": null,
      "outputs": []
    },
    {
      "cell_type": "code",
      "metadata": {
        "colab": {
          "base_uri": "https://localhost:8080/"
        },
        "id": "0q_8JjN4hjz2",
        "outputId": "de978a6e-dade-4a9d-9ae9-31f61ccd5458"
      },
      "source": [
        "input"
      ],
      "execution_count": null,
      "outputs": [
        {
          "output_type": "execute_result",
          "data": {
            "text/plain": [
              "11888"
            ]
          },
          "metadata": {
            "tags": []
          },
          "execution_count": 75
        }
      ]
    },
    {
      "cell_type": "code",
      "metadata": {
        "id": "ShNCadXohk_-"
      },
      "source": [
        "output = y_train.shape[1]"
      ],
      "execution_count": null,
      "outputs": []
    },
    {
      "cell_type": "code",
      "metadata": {
        "colab": {
          "base_uri": "https://localhost:8080/"
        },
        "id": "BRM-WPhxjmek",
        "outputId": "9b189309-0fb8-483c-d37a-390c8b256ef3"
      },
      "source": [
        "output"
      ],
      "execution_count": null,
      "outputs": [
        {
          "output_type": "execute_result",
          "data": {
            "text/plain": [
              "3"
            ]
          },
          "metadata": {
            "tags": []
          },
          "execution_count": 77
        }
      ]
    },
    {
      "cell_type": "code",
      "metadata": {
        "id": "-zIFEtL2jnxV"
      },
      "source": [
        "model = Sequential([\n",
        "                    Dense(neurons_first_layer,activation='relu',input_shape=(input,)), ## input -- no. of columns and all rows\n",
        "                    ##Dense(128,activation='relu'),\n",
        "                    Dense(64,activation='relu'),\n",
        "                    Dense(output,activation='softmax')\n",
        "                    \n",
        "\n",
        "\n",
        "])"
      ],
      "execution_count": null,
      "outputs": []
    },
    {
      "cell_type": "code",
      "metadata": {
        "colab": {
          "base_uri": "https://localhost:8080/"
        },
        "id": "BaEtE9hfkt3d",
        "outputId": "eb969caa-b3f3-44ff-ca94-39b9b328812c"
      },
      "source": [
        "model.summary()"
      ],
      "execution_count": null,
      "outputs": [
        {
          "output_type": "stream",
          "text": [
            "Model: \"sequential_1\"\n",
            "_________________________________________________________________\n",
            "Layer (type)                 Output Shape              Param #   \n",
            "=================================================================\n",
            "dense_3 (Dense)              (None, 11712)             139243968 \n",
            "_________________________________________________________________\n",
            "dense_4 (Dense)              (None, 64)                749632    \n",
            "_________________________________________________________________\n",
            "dense_5 (Dense)              (None, 3)                 195       \n",
            "=================================================================\n",
            "Total params: 139,993,795\n",
            "Trainable params: 139,993,795\n",
            "Non-trainable params: 0\n",
            "_________________________________________________________________\n"
          ],
          "name": "stdout"
        }
      ]
    },
    {
      "cell_type": "code",
      "metadata": {
        "id": "wX5ZsmjxkwJq"
      },
      "source": [
        "model.compile(optimizer='adam',loss='categorical_crossentropy',metrics=['accuracy'])"
      ],
      "execution_count": null,
      "outputs": []
    },
    {
      "cell_type": "code",
      "metadata": {
        "colab": {
          "base_uri": "https://localhost:8080/"
        },
        "id": "D_8DuJMulJqg",
        "outputId": "6a9c7696-d388-452f-a1a6-0582dc434299"
      },
      "source": [
        "history = model.fit(x_train,y_train,epochs=5,validation_data=(x_test,y_test))"
      ],
      "execution_count": null,
      "outputs": [
        {
          "output_type": "stream",
          "text": [
            "Epoch 1/5\n",
            "366/366 [==============================] - 270s 734ms/step - loss: 0.6853 - accuracy: 0.7140 - val_loss: 0.5181 - val_accuracy: 0.7889\n",
            "Epoch 2/5\n",
            "366/366 [==============================] - 265s 723ms/step - loss: 0.2420 - accuracy: 0.9124 - val_loss: 0.6738 - val_accuracy: 0.7838\n",
            "Epoch 3/5\n",
            "366/366 [==============================] - 266s 726ms/step - loss: 0.0824 - accuracy: 0.9734 - val_loss: 0.8144 - val_accuracy: 0.7763\n",
            "Epoch 4/5\n",
            "366/366 [==============================] - 265s 723ms/step - loss: 0.0335 - accuracy: 0.9890 - val_loss: 1.0109 - val_accuracy: 0.7746\n",
            "Epoch 5/5\n",
            "366/366 [==============================] - 266s 727ms/step - loss: 0.0227 - accuracy: 0.9910 - val_loss: 1.1347 - val_accuracy: 0.7756\n"
          ],
          "name": "stdout"
        }
      ]
    },
    {
      "cell_type": "code",
      "metadata": {
        "colab": {
          "base_uri": "https://localhost:8080/",
          "height": 312
        },
        "id": "2-TNc5utlcmG",
        "outputId": "5d2fe191-01ee-4fc0-e9d7-76c05a7edc13"
      },
      "source": [
        "plt.plot(history.history['accuracy'])\n",
        "plt.plot(history.history['val_accuracy'])\n",
        "plt.xlabel('epoch')\n",
        "plt.ylabel('Accuracy')\n",
        "plt.title('Accuracy curve analysis')\n",
        "plt.legend(['training','testing'],loc='best')"
      ],
      "execution_count": null,
      "outputs": [
        {
          "output_type": "execute_result",
          "data": {
            "text/plain": [
              "<matplotlib.legend.Legend at 0x7f717eec1810>"
            ]
          },
          "metadata": {
            "tags": []
          },
          "execution_count": 82
        },
        {
          "output_type": "display_data",
          "data": {
            "image/png": "[encoded data removed]",
            "text/plain": [
              "<Figure size 432x288 with 1 Axes>"
            ]
          },
          "metadata": {
            "tags": [],
            "needs_background": "light"
          }
        }
      ]
    },
    {
      "cell_type": "code",
      "metadata": {
        "colab": {
          "base_uri": "https://localhost:8080/",
          "height": 312
        },
        "id": "BCf2GdudqmSP",
        "outputId": "746f157a-b415-4e95-847d-113d545d5bd5"
      },
      "source": [
        "plt.plot(history.history['loss'])\n",
        "plt.plot(history.history['val_loss'])\n",
        "plt.xlabel('epoch')\n",
        "plt.ylabel('Loss')\n",
        "plt.title('Loss curve analysis')\n",
        "plt.legend(['training','testing'],loc='best')"
      ],
      "execution_count": null,
      "outputs": [
        {
          "output_type": "execute_result",
          "data": {
            "text/plain": [
              "<matplotlib.legend.Legend at 0x7f717ef50ad0>"
            ]
          },
          "metadata": {
            "tags": []
          },
          "execution_count": 83
        },
        {
          "output_type": "display_data",
          "data": {
            "image/png": "[encoded data removed]",
            "text/plain": [
              "<Figure size 432x288 with 1 Axes>"
            ]
          },
          "metadata": {
            "tags": [],
            "needs_background": "light"
          }
        }
      ]
    },
    {
      "cell_type": "code",
      "metadata": {
        "id": "I3N4uqgktCnY"
      },
      "source": [
        "model.compile(optimizer='SGD',loss='categorical_crossentropy',metrics=['accuracy'])"
      ],
      "execution_count": null,
      "outputs": []
    },
    {
      "cell_type": "code",
      "metadata": {
        "colab": {
          "base_uri": "https://localhost:8080/"
        },
        "id": "5AMC36ZQ583B",
        "outputId": "44200ca5-4678-4f93-84c0-2f03b8f020f9"
      },
      "source": [
        "history = model.fit(x_train,y_train,epochs=5,validation_data=(x_test,y_test))"
      ],
      "execution_count": null,
      "outputs": [
        {
          "output_type": "stream",
          "text": [
            "Epoch 1/5\n",
            "366/366 [==============================] - 182s 495ms/step - loss: 0.9706 - accuracy: 0.6255 - val_loss: 0.8998 - val_accuracy: 0.6363\n",
            "Epoch 2/5\n",
            "366/366 [==============================] - 181s 493ms/step - loss: 0.9125 - accuracy: 0.6230 - val_loss: 0.8898 - val_accuracy: 0.6363\n",
            "Epoch 3/5\n",
            "366/366 [==============================] - 181s 496ms/step - loss: 0.8986 - accuracy: 0.6274 - val_loss: 0.8801 - val_accuracy: 0.6363\n",
            "Epoch 4/5\n",
            "366/366 [==============================] - 182s 497ms/step - loss: 0.8911 - accuracy: 0.6240 - val_loss: 0.8665 - val_accuracy: 0.6363\n",
            "Epoch 5/5\n",
            "366/366 [==============================] - 181s 494ms/step - loss: 0.8758 - accuracy: 0.6257 - val_loss: 0.8500 - val_accuracy: 0.6363\n"
          ],
          "name": "stdout"
        }
      ]
    },
    {
      "cell_type": "code",
      "metadata": {
        "id": "OfCD2A-k6LNR"
      },
      "source": [],
      "execution_count": null,
      "outputs": []
    }
  ]
}